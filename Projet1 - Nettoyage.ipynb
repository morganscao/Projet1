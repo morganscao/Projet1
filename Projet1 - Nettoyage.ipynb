{
 "cells": [
  {
   "cell_type": "markdown",
   "metadata": {},
   "source": [
    "# Parcours Data scientist - Analysez des données nutritionnelles"
   ]
  },
  {
   "cell_type": "code",
   "execution_count": 1,
   "metadata": {},
   "outputs": [
    {
     "name": "stdout",
     "output_type": "stream",
     "text": [
      "Populating the interactive namespace from numpy and matplotlib\n",
      "(320772, 162)\n"
     ]
    },
    {
     "data": {
      "text/html": [
       "<div>\n",
       "<style>\n",
       "    .dataframe thead tr:only-child th {\n",
       "        text-align: right;\n",
       "    }\n",
       "\n",
       "    .dataframe thead th {\n",
       "        text-align: left;\n",
       "    }\n",
       "\n",
       "    .dataframe tbody tr th {\n",
       "        vertical-align: top;\n",
       "    }\n",
       "</style>\n",
       "<table border=\"1\" class=\"dataframe\">\n",
       "  <thead>\n",
       "    <tr style=\"text-align: right;\">\n",
       "      <th></th>\n",
       "      <th>code</th>\n",
       "      <th>url</th>\n",
       "      <th>creator</th>\n",
       "      <th>created_t</th>\n",
       "      <th>created_datetime</th>\n",
       "      <th>last_modified_t</th>\n",
       "      <th>last_modified_datetime</th>\n",
       "      <th>product_name</th>\n",
       "      <th>generic_name</th>\n",
       "      <th>quantity</th>\n",
       "      <th>...</th>\n",
       "      <th>ph_100g</th>\n",
       "      <th>fruits-vegetables-nuts_100g</th>\n",
       "      <th>collagen-meat-protein-ratio_100g</th>\n",
       "      <th>cocoa_100g</th>\n",
       "      <th>chlorophyl_100g</th>\n",
       "      <th>carbon-footprint_100g</th>\n",
       "      <th>nutrition-score-fr_100g</th>\n",
       "      <th>nutrition-score-uk_100g</th>\n",
       "      <th>glycemic-index_100g</th>\n",
       "      <th>water-hardness_100g</th>\n",
       "    </tr>\n",
       "  </thead>\n",
       "  <tbody>\n",
       "    <tr>\n",
       "      <th>0</th>\n",
       "      <td>0000000003087</td>\n",
       "      <td>http://world-fr.openfoodfacts.org/produit/0000...</td>\n",
       "      <td>openfoodfacts-contributors</td>\n",
       "      <td>1474103866</td>\n",
       "      <td>2016-09-17T09:17:46Z</td>\n",
       "      <td>1474103893</td>\n",
       "      <td>2016-09-17T09:18:13Z</td>\n",
       "      <td>Farine de blé noir</td>\n",
       "      <td>NaN</td>\n",
       "      <td>1kg</td>\n",
       "      <td>...</td>\n",
       "      <td>NaN</td>\n",
       "      <td>NaN</td>\n",
       "      <td>NaN</td>\n",
       "      <td>NaN</td>\n",
       "      <td>NaN</td>\n",
       "      <td>NaN</td>\n",
       "      <td>NaN</td>\n",
       "      <td>NaN</td>\n",
       "      <td>NaN</td>\n",
       "      <td>NaN</td>\n",
       "    </tr>\n",
       "    <tr>\n",
       "      <th>1</th>\n",
       "      <td>0000000004530</td>\n",
       "      <td>http://world-fr.openfoodfacts.org/produit/0000...</td>\n",
       "      <td>usda-ndb-import</td>\n",
       "      <td>1489069957</td>\n",
       "      <td>2017-03-09T14:32:37Z</td>\n",
       "      <td>1489069957</td>\n",
       "      <td>2017-03-09T14:32:37Z</td>\n",
       "      <td>Banana Chips Sweetened (Whole)</td>\n",
       "      <td>NaN</td>\n",
       "      <td>NaN</td>\n",
       "      <td>...</td>\n",
       "      <td>NaN</td>\n",
       "      <td>NaN</td>\n",
       "      <td>NaN</td>\n",
       "      <td>NaN</td>\n",
       "      <td>NaN</td>\n",
       "      <td>NaN</td>\n",
       "      <td>14.0</td>\n",
       "      <td>14.0</td>\n",
       "      <td>NaN</td>\n",
       "      <td>NaN</td>\n",
       "    </tr>\n",
       "    <tr>\n",
       "      <th>2</th>\n",
       "      <td>0000000004559</td>\n",
       "      <td>http://world-fr.openfoodfacts.org/produit/0000...</td>\n",
       "      <td>usda-ndb-import</td>\n",
       "      <td>1489069957</td>\n",
       "      <td>2017-03-09T14:32:37Z</td>\n",
       "      <td>1489069957</td>\n",
       "      <td>2017-03-09T14:32:37Z</td>\n",
       "      <td>Peanuts</td>\n",
       "      <td>NaN</td>\n",
       "      <td>NaN</td>\n",
       "      <td>...</td>\n",
       "      <td>NaN</td>\n",
       "      <td>NaN</td>\n",
       "      <td>NaN</td>\n",
       "      <td>NaN</td>\n",
       "      <td>NaN</td>\n",
       "      <td>NaN</td>\n",
       "      <td>0.0</td>\n",
       "      <td>0.0</td>\n",
       "      <td>NaN</td>\n",
       "      <td>NaN</td>\n",
       "    </tr>\n",
       "    <tr>\n",
       "      <th>3</th>\n",
       "      <td>0000000016087</td>\n",
       "      <td>http://world-fr.openfoodfacts.org/produit/0000...</td>\n",
       "      <td>usda-ndb-import</td>\n",
       "      <td>1489055731</td>\n",
       "      <td>2017-03-09T10:35:31Z</td>\n",
       "      <td>1489055731</td>\n",
       "      <td>2017-03-09T10:35:31Z</td>\n",
       "      <td>Organic Salted Nut Mix</td>\n",
       "      <td>NaN</td>\n",
       "      <td>NaN</td>\n",
       "      <td>...</td>\n",
       "      <td>NaN</td>\n",
       "      <td>NaN</td>\n",
       "      <td>NaN</td>\n",
       "      <td>NaN</td>\n",
       "      <td>NaN</td>\n",
       "      <td>NaN</td>\n",
       "      <td>12.0</td>\n",
       "      <td>12.0</td>\n",
       "      <td>NaN</td>\n",
       "      <td>NaN</td>\n",
       "    </tr>\n",
       "    <tr>\n",
       "      <th>4</th>\n",
       "      <td>0000000016094</td>\n",
       "      <td>http://world-fr.openfoodfacts.org/produit/0000...</td>\n",
       "      <td>usda-ndb-import</td>\n",
       "      <td>1489055653</td>\n",
       "      <td>2017-03-09T10:34:13Z</td>\n",
       "      <td>1489055653</td>\n",
       "      <td>2017-03-09T10:34:13Z</td>\n",
       "      <td>Organic Polenta</td>\n",
       "      <td>NaN</td>\n",
       "      <td>NaN</td>\n",
       "      <td>...</td>\n",
       "      <td>NaN</td>\n",
       "      <td>NaN</td>\n",
       "      <td>NaN</td>\n",
       "      <td>NaN</td>\n",
       "      <td>NaN</td>\n",
       "      <td>NaN</td>\n",
       "      <td>NaN</td>\n",
       "      <td>NaN</td>\n",
       "      <td>NaN</td>\n",
       "      <td>NaN</td>\n",
       "    </tr>\n",
       "  </tbody>\n",
       "</table>\n",
       "<p>5 rows × 162 columns</p>\n",
       "</div>"
      ],
      "text/plain": [
       "            code                                                url  \\\n",
       "0  0000000003087  http://world-fr.openfoodfacts.org/produit/0000...   \n",
       "1  0000000004530  http://world-fr.openfoodfacts.org/produit/0000...   \n",
       "2  0000000004559  http://world-fr.openfoodfacts.org/produit/0000...   \n",
       "3  0000000016087  http://world-fr.openfoodfacts.org/produit/0000...   \n",
       "4  0000000016094  http://world-fr.openfoodfacts.org/produit/0000...   \n",
       "\n",
       "                      creator   created_t      created_datetime  \\\n",
       "0  openfoodfacts-contributors  1474103866  2016-09-17T09:17:46Z   \n",
       "1             usda-ndb-import  1489069957  2017-03-09T14:32:37Z   \n",
       "2             usda-ndb-import  1489069957  2017-03-09T14:32:37Z   \n",
       "3             usda-ndb-import  1489055731  2017-03-09T10:35:31Z   \n",
       "4             usda-ndb-import  1489055653  2017-03-09T10:34:13Z   \n",
       "\n",
       "  last_modified_t last_modified_datetime                    product_name  \\\n",
       "0      1474103893   2016-09-17T09:18:13Z              Farine de blé noir   \n",
       "1      1489069957   2017-03-09T14:32:37Z  Banana Chips Sweetened (Whole)   \n",
       "2      1489069957   2017-03-09T14:32:37Z                         Peanuts   \n",
       "3      1489055731   2017-03-09T10:35:31Z          Organic Salted Nut Mix   \n",
       "4      1489055653   2017-03-09T10:34:13Z                 Organic Polenta   \n",
       "\n",
       "  generic_name quantity         ...         ph_100g  \\\n",
       "0          NaN      1kg         ...             NaN   \n",
       "1          NaN      NaN         ...             NaN   \n",
       "2          NaN      NaN         ...             NaN   \n",
       "3          NaN      NaN         ...             NaN   \n",
       "4          NaN      NaN         ...             NaN   \n",
       "\n",
       "  fruits-vegetables-nuts_100g collagen-meat-protein-ratio_100g cocoa_100g  \\\n",
       "0                         NaN                              NaN        NaN   \n",
       "1                         NaN                              NaN        NaN   \n",
       "2                         NaN                              NaN        NaN   \n",
       "3                         NaN                              NaN        NaN   \n",
       "4                         NaN                              NaN        NaN   \n",
       "\n",
       "  chlorophyl_100g carbon-footprint_100g nutrition-score-fr_100g  \\\n",
       "0             NaN                   NaN                     NaN   \n",
       "1             NaN                   NaN                    14.0   \n",
       "2             NaN                   NaN                     0.0   \n",
       "3             NaN                   NaN                    12.0   \n",
       "4             NaN                   NaN                     NaN   \n",
       "\n",
       "  nutrition-score-uk_100g glycemic-index_100g water-hardness_100g  \n",
       "0                     NaN                 NaN                 NaN  \n",
       "1                    14.0                 NaN                 NaN  \n",
       "2                     0.0                 NaN                 NaN  \n",
       "3                    12.0                 NaN                 NaN  \n",
       "4                     NaN                 NaN                 NaN  \n",
       "\n",
       "[5 rows x 162 columns]"
      ]
     },
     "execution_count": 1,
     "metadata": {},
     "output_type": "execute_result"
    }
   ],
   "source": [
    "# Récupération du fichier en local\n",
    "import pandas as pd\n",
    "import numpy as np\n",
    "%pylab inline\n",
    "\n",
    "dataraw = pd.read_csv('C:\\Work\\OpenClassrooms\\data/fr.openfoodfacts.org.products.csv', sep=\"\\t\", low_memory=False)\n",
    "\n",
    "print(dataraw.shape)\n",
    "dataraw.head()"
   ]
  },
  {
   "cell_type": "code",
   "execution_count": 2,
   "metadata": {
    "collapsed": true,
    "scrolled": true
   },
   "outputs": [],
   "source": [
    "# On remplace les '-' des noms de colonne par '_' pour pouvoir requêter\n",
    "for col in dataraw.columns:\n",
    "    if '-' in col:\n",
    "        #print(\"rename %s in %s\" % (col, col.replace('-', '_')))\n",
    "        dataraw = dataraw.rename(columns= {col : col.replace('-', '_')})\n",
    "#dataraw.head()"
   ]
  },
  {
   "cell_type": "markdown",
   "metadata": {},
   "source": [
    "# Nettoyage"
   ]
  },
  {
   "cell_type": "code",
   "execution_count": 3,
   "metadata": {
    "collapsed": true
   },
   "outputs": [],
   "source": [
    "verbose = 1\n",
    "\n",
    "# On enlève les colonnes dont toutes les valeurs sont manquantes\n",
    "def RemoveNullColumn(p_df):\n",
    "    print('On enlève les colonnes dont toutes les valeurs sont manquantes')\n",
    "    nb = p_df.shape[1]\n",
    "    p_df = p_df.dropna(axis=1, how='all')\n",
    "    print(\"%i colonnes en moins (valeurs toutes nulles)\" % (nb - p_df.shape[1]))\n",
    "    print(p_df.shape)\n",
    "    return p_df\n",
    "\n",
    "# On enlève les lignes dont toutes les valeurs sont manquantes\n",
    "def RemoveNullRow(p_df):\n",
    "    print('On enlève les lignes dont toutes les valeurs sont manquantes')\n",
    "    nb = p_df.shape[0]\n",
    "    p_df = p_df.dropna(axis=0, how='all')\n",
    "    print(\"%i lignes en moins (valeurs toutes nulles)\" % (nb - p_df.shape[0]))\n",
    "    print(p_df.shape)\n",
    "    return p_df\n",
    "\n",
    "# Méthode de suppression de colonne\n",
    "def DropCol(p_df, p_col):\n",
    "    if p_col in p_df.columns:\n",
    "        p_df = p_df.drop([p_col], axis=1)\n",
    "    return p_df"
   ]
  },
  {
   "cell_type": "code",
   "execution_count": 4,
   "metadata": {
    "collapsed": true
   },
   "outputs": [],
   "source": [
    "# On enlève les colonnes avec trop peu d'information (1 pour 1000)\n",
    "def RemoveEmptyColumns(p_df, p_coef):\n",
    "    print('On enlève les colonnes avec trop peu d''information :', p_coef)\n",
    "    nb = 0\n",
    "    nbMax = (int)(p_df.shape[0] * p_coef)\n",
    "    for col in p_df.columns:\n",
    "        if p_df[col].count() <= nbMax:\n",
    "            if verbose == 1:\n",
    "                print(\"%s : %i\" % (col, p_df[col].count()))\n",
    "            p_df = p_df.drop(col, axis=1)\n",
    "            nb += 1\n",
    "    print(\"%i colonnes enlevées (moins de %i valeurs)\" % (nb, nbMax))\n",
    "    print(p_df.shape)\n",
    "    return p_df"
   ]
  },
  {
   "cell_type": "code",
   "execution_count": 5,
   "metadata": {
    "scrolled": true
   },
   "outputs": [
    {
     "name": "stdout",
     "output_type": "stream",
     "text": [
      "On enlève les colonnes dont toutes les valeurs sont manquantes\n",
      "16 colonnes en moins (valeurs toutes nulles)\n",
      "(320772, 146)\n",
      "On enlève les colonnes avec trop peu dinformation : 0.005\n",
      "cities : 23\n",
      "allergens_fr : 19\n",
      "energy_from_fat_100g : 857\n",
      "caprylic_acid_100g : 1\n",
      "capric_acid_100g : 2\n",
      "lauric_acid_100g : 4\n",
      "myristic_acid_100g : 1\n",
      "palmitic_acid_100g : 1\n",
      "stearic_acid_100g : 1\n",
      "arachidic_acid_100g : 24\n",
      "behenic_acid_100g : 23\n",
      "montanic_acid_100g : 1\n",
      "omega_3_fat_100g : 841\n",
      "alpha_linolenic_acid_100g : 186\n",
      "eicosapentaenoic_acid_100g : 38\n",
      "docosahexaenoic_acid_100g : 78\n",
      "omega_6_fat_100g : 188\n",
      "linoleic_acid_100g : 149\n",
      "arachidonic_acid_100g : 8\n",
      "gamma_linolenic_acid_100g : 24\n",
      "dihomo_gamma_linolenic_acid_100g : 23\n",
      "omega_9_fat_100g : 21\n",
      "oleic_acid_100g : 13\n",
      "gondoic_acid_100g : 14\n",
      "sucrose_100g : 72\n",
      "glucose_100g : 26\n",
      "fructose_100g : 38\n",
      "lactose_100g : 262\n",
      "maltose_100g : 4\n",
      "maltodextrins_100g : 11\n",
      "starch_100g : 266\n",
      "polyols_100g : 414\n",
      "casein_100g : 27\n",
      "serum_proteins_100g : 16\n",
      "nucleotides_100g : 9\n",
      "beta_carotene_100g : 34\n",
      "vitamin_e_100g : 1340\n",
      "vitamin_k_100g : 918\n",
      "biotin_100g : 330\n",
      "silica_100g : 38\n",
      "bicarbonate_100g : 81\n",
      "chloride_100g : 158\n",
      "fluoride_100g : 79\n",
      "selenium_100g : 1168\n",
      "chromium_100g : 20\n",
      "molybdenum_100g : 11\n",
      "iodine_100g : 259\n",
      "caffeine_100g : 78\n",
      "taurine_100g : 29\n",
      "ph_100g : 49\n",
      "collagen_meat_protein_ratio_100g : 165\n",
      "cocoa_100g : 948\n",
      "carbon_footprint_100g : 268\n",
      "53 colonnes enlevées (moins de 1603 valeurs)\n",
      "(320772, 93)\n",
      "On enlève les lignes dont toutes les valeurs sont manquantes\n",
      "0 lignes en moins (valeurs toutes nulles)\n",
      "(320772, 93)\n"
     ]
    }
   ],
   "source": [
    "my_data = RemoveNullColumn(dataraw)\n",
    "# On enlève les colonnes avec moins de 1 ligne pour 1000 remplie\n",
    "my_data = RemoveEmptyColumns(my_data, 0.005)\n",
    "my_data = RemoveNullRow(my_data)"
   ]
  },
  {
   "cell_type": "markdown",
   "metadata": {},
   "source": [
    "## Un peu de visualisation"
   ]
  },
  {
   "cell_type": "code",
   "execution_count": 6,
   "metadata": {},
   "outputs": [
    {
     "data": {
      "text/html": [
       "<div>\n",
       "<style>\n",
       "    .dataframe thead tr:only-child th {\n",
       "        text-align: right;\n",
       "    }\n",
       "\n",
       "    .dataframe thead th {\n",
       "        text-align: left;\n",
       "    }\n",
       "\n",
       "    .dataframe tbody tr th {\n",
       "        vertical-align: top;\n",
       "    }\n",
       "</style>\n",
       "<table border=\"1\" class=\"dataframe\">\n",
       "  <thead>\n",
       "    <tr style=\"text-align: right;\">\n",
       "      <th></th>\n",
       "      <th>code</th>\n",
       "      <th>url</th>\n",
       "      <th>creator</th>\n",
       "      <th>created_t</th>\n",
       "      <th>created_datetime</th>\n",
       "      <th>last_modified_t</th>\n",
       "      <th>last_modified_datetime</th>\n",
       "      <th>product_name</th>\n",
       "      <th>generic_name</th>\n",
       "      <th>quantity</th>\n",
       "      <th>...</th>\n",
       "      <th>nutrition_grade_fr</th>\n",
       "      <th>pnns_groups_1</th>\n",
       "      <th>pnns_groups_2</th>\n",
       "      <th>states</th>\n",
       "      <th>states_tags</th>\n",
       "      <th>states_fr</th>\n",
       "      <th>main_category</th>\n",
       "      <th>main_category_fr</th>\n",
       "      <th>image_url</th>\n",
       "      <th>image_small_url</th>\n",
       "    </tr>\n",
       "  </thead>\n",
       "  <tbody>\n",
       "    <tr>\n",
       "      <th>0</th>\n",
       "      <td>0000000003087</td>\n",
       "      <td>http://world-fr.openfoodfacts.org/produit/0000...</td>\n",
       "      <td>openfoodfacts-contributors</td>\n",
       "      <td>1474103866</td>\n",
       "      <td>2016-09-17T09:17:46Z</td>\n",
       "      <td>1474103893</td>\n",
       "      <td>2016-09-17T09:18:13Z</td>\n",
       "      <td>Farine de blé noir</td>\n",
       "      <td>NaN</td>\n",
       "      <td>1kg</td>\n",
       "      <td>...</td>\n",
       "      <td>NaN</td>\n",
       "      <td>NaN</td>\n",
       "      <td>NaN</td>\n",
       "      <td>en:to-be-completed, en:nutrition-facts-to-be-c...</td>\n",
       "      <td>en:to-be-completed,en:nutrition-facts-to-be-co...</td>\n",
       "      <td>A compléter,Informations nutritionnelles à com...</td>\n",
       "      <td>NaN</td>\n",
       "      <td>NaN</td>\n",
       "      <td>NaN</td>\n",
       "      <td>NaN</td>\n",
       "    </tr>\n",
       "    <tr>\n",
       "      <th>1</th>\n",
       "      <td>0000000004530</td>\n",
       "      <td>http://world-fr.openfoodfacts.org/produit/0000...</td>\n",
       "      <td>usda-ndb-import</td>\n",
       "      <td>1489069957</td>\n",
       "      <td>2017-03-09T14:32:37Z</td>\n",
       "      <td>1489069957</td>\n",
       "      <td>2017-03-09T14:32:37Z</td>\n",
       "      <td>Banana Chips Sweetened (Whole)</td>\n",
       "      <td>NaN</td>\n",
       "      <td>NaN</td>\n",
       "      <td>...</td>\n",
       "      <td>d</td>\n",
       "      <td>NaN</td>\n",
       "      <td>NaN</td>\n",
       "      <td>en:to-be-completed, en:nutrition-facts-complet...</td>\n",
       "      <td>en:to-be-completed,en:nutrition-facts-complete...</td>\n",
       "      <td>A compléter,Informations nutritionnelles compl...</td>\n",
       "      <td>NaN</td>\n",
       "      <td>NaN</td>\n",
       "      <td>NaN</td>\n",
       "      <td>NaN</td>\n",
       "    </tr>\n",
       "    <tr>\n",
       "      <th>2</th>\n",
       "      <td>0000000004559</td>\n",
       "      <td>http://world-fr.openfoodfacts.org/produit/0000...</td>\n",
       "      <td>usda-ndb-import</td>\n",
       "      <td>1489069957</td>\n",
       "      <td>2017-03-09T14:32:37Z</td>\n",
       "      <td>1489069957</td>\n",
       "      <td>2017-03-09T14:32:37Z</td>\n",
       "      <td>Peanuts</td>\n",
       "      <td>NaN</td>\n",
       "      <td>NaN</td>\n",
       "      <td>...</td>\n",
       "      <td>b</td>\n",
       "      <td>NaN</td>\n",
       "      <td>NaN</td>\n",
       "      <td>en:to-be-completed, en:nutrition-facts-complet...</td>\n",
       "      <td>en:to-be-completed,en:nutrition-facts-complete...</td>\n",
       "      <td>A compléter,Informations nutritionnelles compl...</td>\n",
       "      <td>NaN</td>\n",
       "      <td>NaN</td>\n",
       "      <td>NaN</td>\n",
       "      <td>NaN</td>\n",
       "    </tr>\n",
       "    <tr>\n",
       "      <th>3</th>\n",
       "      <td>0000000016087</td>\n",
       "      <td>http://world-fr.openfoodfacts.org/produit/0000...</td>\n",
       "      <td>usda-ndb-import</td>\n",
       "      <td>1489055731</td>\n",
       "      <td>2017-03-09T10:35:31Z</td>\n",
       "      <td>1489055731</td>\n",
       "      <td>2017-03-09T10:35:31Z</td>\n",
       "      <td>Organic Salted Nut Mix</td>\n",
       "      <td>NaN</td>\n",
       "      <td>NaN</td>\n",
       "      <td>...</td>\n",
       "      <td>d</td>\n",
       "      <td>NaN</td>\n",
       "      <td>NaN</td>\n",
       "      <td>en:to-be-completed, en:nutrition-facts-complet...</td>\n",
       "      <td>en:to-be-completed,en:nutrition-facts-complete...</td>\n",
       "      <td>A compléter,Informations nutritionnelles compl...</td>\n",
       "      <td>NaN</td>\n",
       "      <td>NaN</td>\n",
       "      <td>NaN</td>\n",
       "      <td>NaN</td>\n",
       "    </tr>\n",
       "    <tr>\n",
       "      <th>4</th>\n",
       "      <td>0000000016094</td>\n",
       "      <td>http://world-fr.openfoodfacts.org/produit/0000...</td>\n",
       "      <td>usda-ndb-import</td>\n",
       "      <td>1489055653</td>\n",
       "      <td>2017-03-09T10:34:13Z</td>\n",
       "      <td>1489055653</td>\n",
       "      <td>2017-03-09T10:34:13Z</td>\n",
       "      <td>Organic Polenta</td>\n",
       "      <td>NaN</td>\n",
       "      <td>NaN</td>\n",
       "      <td>...</td>\n",
       "      <td>NaN</td>\n",
       "      <td>NaN</td>\n",
       "      <td>NaN</td>\n",
       "      <td>en:to-be-completed, en:nutrition-facts-complet...</td>\n",
       "      <td>en:to-be-completed,en:nutrition-facts-complete...</td>\n",
       "      <td>A compléter,Informations nutritionnelles compl...</td>\n",
       "      <td>NaN</td>\n",
       "      <td>NaN</td>\n",
       "      <td>NaN</td>\n",
       "      <td>NaN</td>\n",
       "    </tr>\n",
       "  </tbody>\n",
       "</table>\n",
       "<p>5 rows × 54 columns</p>\n",
       "</div>"
      ],
      "text/plain": [
       "            code                                                url  \\\n",
       "0  0000000003087  http://world-fr.openfoodfacts.org/produit/0000...   \n",
       "1  0000000004530  http://world-fr.openfoodfacts.org/produit/0000...   \n",
       "2  0000000004559  http://world-fr.openfoodfacts.org/produit/0000...   \n",
       "3  0000000016087  http://world-fr.openfoodfacts.org/produit/0000...   \n",
       "4  0000000016094  http://world-fr.openfoodfacts.org/produit/0000...   \n",
       "\n",
       "                      creator   created_t      created_datetime  \\\n",
       "0  openfoodfacts-contributors  1474103866  2016-09-17T09:17:46Z   \n",
       "1             usda-ndb-import  1489069957  2017-03-09T14:32:37Z   \n",
       "2             usda-ndb-import  1489069957  2017-03-09T14:32:37Z   \n",
       "3             usda-ndb-import  1489055731  2017-03-09T10:35:31Z   \n",
       "4             usda-ndb-import  1489055653  2017-03-09T10:34:13Z   \n",
       "\n",
       "  last_modified_t last_modified_datetime                    product_name  \\\n",
       "0      1474103893   2016-09-17T09:18:13Z              Farine de blé noir   \n",
       "1      1489069957   2017-03-09T14:32:37Z  Banana Chips Sweetened (Whole)   \n",
       "2      1489069957   2017-03-09T14:32:37Z                         Peanuts   \n",
       "3      1489055731   2017-03-09T10:35:31Z          Organic Salted Nut Mix   \n",
       "4      1489055653   2017-03-09T10:34:13Z                 Organic Polenta   \n",
       "\n",
       "  generic_name quantity       ...       nutrition_grade_fr pnns_groups_1  \\\n",
       "0          NaN      1kg       ...                      NaN           NaN   \n",
       "1          NaN      NaN       ...                        d           NaN   \n",
       "2          NaN      NaN       ...                        b           NaN   \n",
       "3          NaN      NaN       ...                        d           NaN   \n",
       "4          NaN      NaN       ...                      NaN           NaN   \n",
       "\n",
       "  pnns_groups_2                                             states  \\\n",
       "0           NaN  en:to-be-completed, en:nutrition-facts-to-be-c...   \n",
       "1           NaN  en:to-be-completed, en:nutrition-facts-complet...   \n",
       "2           NaN  en:to-be-completed, en:nutrition-facts-complet...   \n",
       "3           NaN  en:to-be-completed, en:nutrition-facts-complet...   \n",
       "4           NaN  en:to-be-completed, en:nutrition-facts-complet...   \n",
       "\n",
       "                                         states_tags  \\\n",
       "0  en:to-be-completed,en:nutrition-facts-to-be-co...   \n",
       "1  en:to-be-completed,en:nutrition-facts-complete...   \n",
       "2  en:to-be-completed,en:nutrition-facts-complete...   \n",
       "3  en:to-be-completed,en:nutrition-facts-complete...   \n",
       "4  en:to-be-completed,en:nutrition-facts-complete...   \n",
       "\n",
       "                                           states_fr main_category  \\\n",
       "0  A compléter,Informations nutritionnelles à com...           NaN   \n",
       "1  A compléter,Informations nutritionnelles compl...           NaN   \n",
       "2  A compléter,Informations nutritionnelles compl...           NaN   \n",
       "3  A compléter,Informations nutritionnelles compl...           NaN   \n",
       "4  A compléter,Informations nutritionnelles compl...           NaN   \n",
       "\n",
       "  main_category_fr image_url image_small_url  \n",
       "0              NaN       NaN             NaN  \n",
       "1              NaN       NaN             NaN  \n",
       "2              NaN       NaN             NaN  \n",
       "3              NaN       NaN             NaN  \n",
       "4              NaN       NaN             NaN  \n",
       "\n",
       "[5 rows x 54 columns]"
      ]
     },
     "execution_count": 6,
     "metadata": {},
     "output_type": "execute_result"
    }
   ],
   "source": [
    "# select non-numeric columns\n",
    "df_str = my_data.select_dtypes(exclude=[np.number])\n",
    "df_str.head()"
   ]
  },
  {
   "cell_type": "code",
   "execution_count": 7,
   "metadata": {},
   "outputs": [
    {
     "name": "stdout",
     "output_type": "stream",
     "text": [
      "ingredients_from_palm_oil_tags\n",
      "count               4835\n",
      "unique                14\n",
      "top       huile-de-palme\n",
      "freq                4586\n",
      "Name: ingredients_from_palm_oil_tags, dtype: object\n",
      "nutrition_grade_fr\n",
      "count     221210\n",
      "unique         5\n",
      "top            d\n",
      "freq       62763\n",
      "Name: nutrition_grade_fr, dtype: object\n",
      "pnns_groups_1\n",
      "count       91513\n",
      "unique         14\n",
      "top       unknown\n",
      "freq        22624\n",
      "Name: pnns_groups_1, dtype: object\n",
      "pnns_groups_2\n",
      "count       94491\n",
      "unique         42\n",
      "top       unknown\n",
      "freq        22624\n",
      "Name: pnns_groups_2, dtype: object\n"
     ]
    }
   ],
   "source": [
    "# On recherche les colonnes avec peu de valeurs différentes, donc succeptibles d'être catégorisées\n",
    "desc = df_str.describe()\n",
    "for col in df_str.columns:\n",
    "    if (desc[col][1]) < 100:\n",
    "        print (col)\n",
    "        print (desc[col])\n"
   ]
  },
  {
   "cell_type": "code",
   "execution_count": 8,
   "metadata": {},
   "outputs": [
    {
     "data": {
      "text/plain": [
       "count      22190\n",
       "unique      4840\n",
       "top       France\n",
       "freq        5171\n",
       "Name: origins, dtype: object"
      ]
     },
     "execution_count": 8,
     "metadata": {},
     "output_type": "execute_result"
    }
   ],
   "source": [
    "# Origine\n",
    "df_str.origins.describe()"
   ]
  },
  {
   "cell_type": "code",
   "execution_count": 9,
   "metadata": {},
   "outputs": [
    {
     "data": {
      "text/plain": [
       "count      36501\n",
       "unique      7308\n",
       "top       France\n",
       "freq        9371\n",
       "Name: manufacturing_places, dtype: object"
      ]
     },
     "execution_count": 9,
     "metadata": {},
     "output_type": "execute_result"
    }
   ],
   "source": [
    "# \n",
    "df_str.manufacturing_places.describe()"
   ]
  },
  {
   "cell_type": "code",
   "execution_count": 10,
   "metadata": {},
   "outputs": [
    {
     "data": {
      "text/plain": [
       "count      58193\n",
       "unique      5120\n",
       "top       France\n",
       "freq       11762\n",
       "Name: purchase_places, dtype: object"
      ]
     },
     "execution_count": 10,
     "metadata": {},
     "output_type": "execute_result"
    }
   ],
   "source": [
    "# \n",
    "df_str.purchase_places.describe()"
   ]
  },
  {
   "cell_type": "code",
   "execution_count": 11,
   "metadata": {},
   "outputs": [
    {
     "data": {
      "text/plain": [
       "count                   18803\n",
       "unique                   1602\n",
       "top       47.633333,-2.666667\n",
       "freq                      279\n",
       "Name: first_packaging_code_geo, dtype: object"
      ]
     },
     "execution_count": 11,
     "metadata": {},
     "output_type": "execute_result"
    }
   ],
   "source": [
    "# \n",
    "df_str.first_packaging_code_geo.describe()"
   ]
  },
  {
   "cell_type": "code",
   "execution_count": 12,
   "metadata": {},
   "outputs": [
    {
     "data": {
      "text/plain": [
       "count                                                248905\n",
       "unique                                               196069\n",
       "top        [ extra-virgin-olive-oil -> en:extra-virgin-o...\n",
       "freq                                                    397\n",
       "Name: additives, dtype: object"
      ]
     },
     "execution_count": 12,
     "metadata": {},
     "output_type": "execute_result"
    }
   ],
   "source": [
    "# \n",
    "my_data.additives.describe()"
   ]
  },
  {
   "cell_type": "code",
   "execution_count": 13,
   "metadata": {},
   "outputs": [
    {
     "data": {
      "text/plain": [
       "count                154680\n",
       "unique                41537\n",
       "top       E322 - Lécithines\n",
       "freq                   8264\n",
       "Name: additives_fr, dtype: object"
      ]
     },
     "execution_count": 13,
     "metadata": {},
     "output_type": "execute_result"
    }
   ],
   "source": [
    "# \n",
    "my_data.additives_fr.describe()"
   ]
  },
  {
   "cell_type": "code",
   "execution_count": 14,
   "metadata": {},
   "outputs": [
    {
     "data": {
      "text/plain": [
       "count    248939.000000\n",
       "mean          1.936024\n",
       "std           2.502019\n",
       "min           0.000000\n",
       "25%           0.000000\n",
       "50%           1.000000\n",
       "75%           3.000000\n",
       "max          31.000000\n",
       "Name: additives_n, dtype: float64"
      ]
     },
     "execution_count": 14,
     "metadata": {},
     "output_type": "execute_result"
    }
   ],
   "source": [
    "# \n",
    "my_data.additives_n.describe()"
   ]
  },
  {
   "cell_type": "code",
   "execution_count": 15,
   "metadata": {},
   "outputs": [
    {
     "data": {
      "text/plain": [
       "count      154680\n",
       "unique      41537\n",
       "top       en:e322\n",
       "freq         8264\n",
       "Name: additives_tags, dtype: object"
      ]
     },
     "execution_count": 15,
     "metadata": {},
     "output_type": "execute_result"
    }
   ],
   "source": [
    "# \n",
    "my_data.additives_tags.describe()"
   ]
  },
  {
   "cell_type": "code",
   "execution_count": 16,
   "metadata": {},
   "outputs": [
    {
     "data": {
      "text/plain": [
       "count    248939.000000\n",
       "mean          0.019659\n",
       "std           0.140524\n",
       "min           0.000000\n",
       "25%           0.000000\n",
       "50%           0.000000\n",
       "75%           0.000000\n",
       "max           2.000000\n",
       "Name: ingredients_from_palm_oil_n, dtype: float64"
      ]
     },
     "execution_count": 16,
     "metadata": {},
     "output_type": "execute_result"
    }
   ],
   "source": [
    "# \n",
    "my_data.ingredients_from_palm_oil_n.describe()"
   ]
  },
  {
   "cell_type": "code",
   "execution_count": 17,
   "metadata": {},
   "outputs": [
    {
     "data": {
      "text/plain": [
       "count               4835\n",
       "unique                14\n",
       "top       huile-de-palme\n",
       "freq                4586\n",
       "Name: ingredients_from_palm_oil_tags, dtype: object"
      ]
     },
     "execution_count": 17,
     "metadata": {},
     "output_type": "execute_result"
    }
   ],
   "source": [
    "# \n",
    "my_data.ingredients_from_palm_oil_tags.describe()"
   ]
  },
  {
   "cell_type": "code",
   "execution_count": 18,
   "metadata": {},
   "outputs": [
    {
     "data": {
      "text/plain": [
       "count    248939.000000\n",
       "mean          0.055246\n",
       "std           0.269207\n",
       "min           0.000000\n",
       "25%           0.000000\n",
       "50%           0.000000\n",
       "75%           0.000000\n",
       "max           6.000000\n",
       "Name: ingredients_that_may_be_from_palm_oil_n, dtype: float64"
      ]
     },
     "execution_count": 18,
     "metadata": {},
     "output_type": "execute_result"
    }
   ],
   "source": [
    "# \n",
    "my_data.ingredients_that_may_be_from_palm_oil_n.describe()"
   ]
  },
  {
   "cell_type": "code",
   "execution_count": 19,
   "metadata": {},
   "outputs": [
    {
     "data": {
      "text/plain": [
       "count                   11696\n",
       "unique                    160\n",
       "top       e160a-beta-carotene\n",
       "freq                     2843\n",
       "Name: ingredients_that_may_be_from_palm_oil_tags, dtype: object"
      ]
     },
     "execution_count": 19,
     "metadata": {},
     "output_type": "execute_result"
    }
   ],
   "source": [
    "# \n",
    "my_data.ingredients_that_may_be_from_palm_oil_tags.describe()"
   ]
  },
  {
   "cell_type": "code",
   "execution_count": 20,
   "metadata": {
    "scrolled": true
   },
   "outputs": [
    {
     "data": {
      "text/html": [
       "<div>\n",
       "<style>\n",
       "    .dataframe thead tr:only-child th {\n",
       "        text-align: right;\n",
       "    }\n",
       "\n",
       "    .dataframe thead th {\n",
       "        text-align: left;\n",
       "    }\n",
       "\n",
       "    .dataframe tbody tr th {\n",
       "        vertical-align: top;\n",
       "    }\n",
       "</style>\n",
       "<table border=\"1\" class=\"dataframe\">\n",
       "  <thead>\n",
       "    <tr style=\"text-align: right;\">\n",
       "      <th></th>\n",
       "      <th>product_name</th>\n",
       "      <th>main_category</th>\n",
       "      <th>pnns_groups_1</th>\n",
       "      <th>pnns_groups_2</th>\n",
       "    </tr>\n",
       "  </thead>\n",
       "  <tbody>\n",
       "    <tr>\n",
       "      <th>80633</th>\n",
       "      <td>Daily Fish'n'Chips Salt &amp; Vinegar</td>\n",
       "      <td>en:salty-snacks</td>\n",
       "      <td>Salty snacks</td>\n",
       "      <td>Appetizers</td>\n",
       "    </tr>\n",
       "    <tr>\n",
       "      <th>243703</th>\n",
       "      <td>Gruyère</td>\n",
       "      <td>NaN</td>\n",
       "      <td>NaN</td>\n",
       "      <td>NaN</td>\n",
       "    </tr>\n",
       "    <tr>\n",
       "      <th>314704</th>\n",
       "      <td>Ketchup (offre saisonnière)</td>\n",
       "      <td>en:groceries</td>\n",
       "      <td>Fat and sauces</td>\n",
       "      <td>Dressings and sauces</td>\n",
       "    </tr>\n",
       "    <tr>\n",
       "      <th>205127</th>\n",
       "      <td>Frites Batatas Fritas</td>\n",
       "      <td>NaN</td>\n",
       "      <td>NaN</td>\n",
       "      <td>NaN</td>\n",
       "    </tr>\n",
       "    <tr>\n",
       "      <th>52834</th>\n",
       "      <td>Organic Grape Juice From Concentrate</td>\n",
       "      <td>NaN</td>\n",
       "      <td>NaN</td>\n",
       "      <td>NaN</td>\n",
       "    </tr>\n",
       "    <tr>\n",
       "      <th>10956</th>\n",
       "      <td>Mini Pizza Bagels, Three Cheese</td>\n",
       "      <td>NaN</td>\n",
       "      <td>NaN</td>\n",
       "      <td>NaN</td>\n",
       "    </tr>\n",
       "    <tr>\n",
       "      <th>243377</th>\n",
       "      <td>Vinaigre balsamique de Modène</td>\n",
       "      <td>en:vinegars</td>\n",
       "      <td>Fat and sauces</td>\n",
       "      <td>Dressings and sauces</td>\n",
       "    </tr>\n",
       "    <tr>\n",
       "      <th>23172</th>\n",
       "      <td>Fresco, Authentic Mexican Crumbling Cheese</td>\n",
       "      <td>NaN</td>\n",
       "      <td>NaN</td>\n",
       "      <td>NaN</td>\n",
       "    </tr>\n",
       "    <tr>\n",
       "      <th>11123</th>\n",
       "      <td>Chocolate</td>\n",
       "      <td>NaN</td>\n",
       "      <td>NaN</td>\n",
       "      <td>NaN</td>\n",
       "    </tr>\n",
       "    <tr>\n",
       "      <th>285558</th>\n",
       "      <td>Baking Spray With Flour</td>\n",
       "      <td>NaN</td>\n",
       "      <td>NaN</td>\n",
       "      <td>NaN</td>\n",
       "    </tr>\n",
       "    <tr>\n",
       "      <th>75101</th>\n",
       "      <td>Rutter's, Unsweetened Iced</td>\n",
       "      <td>NaN</td>\n",
       "      <td>NaN</td>\n",
       "      <td>NaN</td>\n",
       "    </tr>\n",
       "    <tr>\n",
       "      <th>14469</th>\n",
       "      <td>Apple Sauce</td>\n",
       "      <td>NaN</td>\n",
       "      <td>NaN</td>\n",
       "      <td>NaN</td>\n",
       "    </tr>\n",
       "    <tr>\n",
       "      <th>298288</th>\n",
       "      <td>Chocolat au lait</td>\n",
       "      <td>NaN</td>\n",
       "      <td>NaN</td>\n",
       "      <td>NaN</td>\n",
       "    </tr>\n",
       "    <tr>\n",
       "      <th>188993</th>\n",
       "      <td>Buitoni Fraich'up</td>\n",
       "      <td>en:frozen-foods</td>\n",
       "      <td>unknown</td>\n",
       "      <td>unknown</td>\n",
       "    </tr>\n",
       "    <tr>\n",
       "      <th>115348</th>\n",
       "      <td>Agramunt Nougat, Hazelnut</td>\n",
       "      <td>NaN</td>\n",
       "      <td>NaN</td>\n",
       "      <td>NaN</td>\n",
       "    </tr>\n",
       "    <tr>\n",
       "      <th>309775</th>\n",
       "      <td>Patatas fritas en palitos &amp;quot;Aliada&amp;quot;</td>\n",
       "      <td>en:plant-based-foods-and-beverages</td>\n",
       "      <td>Salty snacks</td>\n",
       "      <td>Appetizers</td>\n",
       "    </tr>\n",
       "    <tr>\n",
       "      <th>41608</th>\n",
       "      <td>Sliced Carrots</td>\n",
       "      <td>NaN</td>\n",
       "      <td>NaN</td>\n",
       "      <td>NaN</td>\n",
       "    </tr>\n",
       "    <tr>\n",
       "      <th>71138</th>\n",
       "      <td>Turnip Greens With Diced Turnips</td>\n",
       "      <td>NaN</td>\n",
       "      <td>NaN</td>\n",
       "      <td>NaN</td>\n",
       "    </tr>\n",
       "    <tr>\n",
       "      <th>87117</th>\n",
       "      <td>Juice</td>\n",
       "      <td>NaN</td>\n",
       "      <td>NaN</td>\n",
       "      <td>NaN</td>\n",
       "    </tr>\n",
       "    <tr>\n",
       "      <th>61683</th>\n",
       "      <td>Roasted Edamame</td>\n",
       "      <td>NaN</td>\n",
       "      <td>NaN</td>\n",
       "      <td>NaN</td>\n",
       "    </tr>\n",
       "    <tr>\n",
       "      <th>208543</th>\n",
       "      <td>Cœurs d'Artichauts</td>\n",
       "      <td>en:canned-foods</td>\n",
       "      <td>Fruits and vegetables</td>\n",
       "      <td>Vegetables</td>\n",
       "    </tr>\n",
       "    <tr>\n",
       "      <th>100376</th>\n",
       "      <td>Unique, Pretzel Shells, Bacon Cheddar</td>\n",
       "      <td>NaN</td>\n",
       "      <td>NaN</td>\n",
       "      <td>NaN</td>\n",
       "    </tr>\n",
       "    <tr>\n",
       "      <th>208717</th>\n",
       "      <td>Génoises chocolat noir orange</td>\n",
       "      <td>en:cakes</td>\n",
       "      <td>Sugary snacks</td>\n",
       "      <td>Biscuits and cakes</td>\n",
       "    </tr>\n",
       "    <tr>\n",
       "      <th>120709</th>\n",
       "      <td>Chng Kee's, Seasoning Mix For Hainanese Chicke...</td>\n",
       "      <td>NaN</td>\n",
       "      <td>NaN</td>\n",
       "      <td>NaN</td>\n",
       "    </tr>\n",
       "    <tr>\n",
       "      <th>45165</th>\n",
       "      <td>Butterfly Shrimp</td>\n",
       "      <td>NaN</td>\n",
       "      <td>NaN</td>\n",
       "      <td>NaN</td>\n",
       "    </tr>\n",
       "    <tr>\n",
       "      <th>290885</th>\n",
       "      <td>NaN</td>\n",
       "      <td>NaN</td>\n",
       "      <td>NaN</td>\n",
       "      <td>NaN</td>\n",
       "    </tr>\n",
       "    <tr>\n",
       "      <th>48893</th>\n",
       "      <td>5 Star, Crumbled Feta Cheese</td>\n",
       "      <td>NaN</td>\n",
       "      <td>NaN</td>\n",
       "      <td>NaN</td>\n",
       "    </tr>\n",
       "    <tr>\n",
       "      <th>53655</th>\n",
       "      <td>Chipotle Agave, Sandwich Slicers</td>\n",
       "      <td>NaN</td>\n",
       "      <td>NaN</td>\n",
       "      <td>NaN</td>\n",
       "    </tr>\n",
       "    <tr>\n",
       "      <th>164774</th>\n",
       "      <td>Life Ice, Bite-Sized Ices, Green Grind</td>\n",
       "      <td>NaN</td>\n",
       "      <td>NaN</td>\n",
       "      <td>NaN</td>\n",
       "    </tr>\n",
       "    <tr>\n",
       "      <th>265119</th>\n",
       "      <td>Kokosöl nativ</td>\n",
       "      <td>en:vegetable-oils</td>\n",
       "      <td>Fat and sauces</td>\n",
       "      <td>Fats</td>\n",
       "    </tr>\n",
       "    <tr>\n",
       "      <th>211678</th>\n",
       "      <td>Filets de Sardines Aux Herbes Et Petits Legumes</td>\n",
       "      <td>en:canned-sardines</td>\n",
       "      <td>Fish Meat Eggs</td>\n",
       "      <td>Fish and seafood</td>\n",
       "    </tr>\n",
       "    <tr>\n",
       "      <th>113473</th>\n",
       "      <td>Truite fumée bio du Mont-Lozère</td>\n",
       "      <td>en:smoked-fishes</td>\n",
       "      <td>Fish Meat Eggs</td>\n",
       "      <td>Fish and seafood</td>\n",
       "    </tr>\n",
       "    <tr>\n",
       "      <th>150693</th>\n",
       "      <td>Organic Rice Crackers, Sea Salt</td>\n",
       "      <td>NaN</td>\n",
       "      <td>NaN</td>\n",
       "      <td>NaN</td>\n",
       "    </tr>\n",
       "    <tr>\n",
       "      <th>255814</th>\n",
       "      <td>Jufka svjeze tijesto za pite i baklave</td>\n",
       "      <td>NaN</td>\n",
       "      <td>NaN</td>\n",
       "      <td>NaN</td>\n",
       "    </tr>\n",
       "    <tr>\n",
       "      <th>50839</th>\n",
       "      <td>Cashews</td>\n",
       "      <td>NaN</td>\n",
       "      <td>NaN</td>\n",
       "      <td>NaN</td>\n",
       "    </tr>\n",
       "    <tr>\n",
       "      <th>140831</th>\n",
       "      <td>Epoca, Yogudino, Probiotic Dairy Beverage Smoo...</td>\n",
       "      <td>NaN</td>\n",
       "      <td>NaN</td>\n",
       "      <td>NaN</td>\n",
       "    </tr>\n",
       "    <tr>\n",
       "      <th>91686</th>\n",
       "      <td>Peanut Bar, Sweet &amp; Spicy</td>\n",
       "      <td>NaN</td>\n",
       "      <td>NaN</td>\n",
       "      <td>NaN</td>\n",
       "    </tr>\n",
       "    <tr>\n",
       "      <th>250674</th>\n",
       "      <td>Pain aux graines bio</td>\n",
       "      <td>NaN</td>\n",
       "      <td>NaN</td>\n",
       "      <td>NaN</td>\n",
       "    </tr>\n",
       "    <tr>\n",
       "      <th>185688</th>\n",
       "      <td>Saucisse sèche aux noisettes</td>\n",
       "      <td>fr:saucissons</td>\n",
       "      <td>Fish Meat Eggs</td>\n",
       "      <td>Processed meat</td>\n",
       "    </tr>\n",
       "    <tr>\n",
       "      <th>91626</th>\n",
       "      <td>Toast Chee, Reduced Fat Crackers, Peanut Butter</td>\n",
       "      <td>NaN</td>\n",
       "      <td>NaN</td>\n",
       "      <td>NaN</td>\n",
       "    </tr>\n",
       "    <tr>\n",
       "      <th>238251</th>\n",
       "      <td>Crevettes cuites Jumbo</td>\n",
       "      <td>en:crustaceans</td>\n",
       "      <td>Fish Meat Eggs</td>\n",
       "      <td>Fish and seafood</td>\n",
       "    </tr>\n",
       "    <tr>\n",
       "      <th>153461</th>\n",
       "      <td>Gummy X's &amp; O's</td>\n",
       "      <td>NaN</td>\n",
       "      <td>NaN</td>\n",
       "      <td>NaN</td>\n",
       "    </tr>\n",
       "    <tr>\n",
       "      <th>151372</th>\n",
       "      <td>Organic Four Cheese Pasta Sauce</td>\n",
       "      <td>NaN</td>\n",
       "      <td>NaN</td>\n",
       "      <td>NaN</td>\n",
       "    </tr>\n",
       "    <tr>\n",
       "      <th>271116</th>\n",
       "      <td>Martini Rosso</td>\n",
       "      <td>it:aperifitf</td>\n",
       "      <td>unknown</td>\n",
       "      <td>unknown</td>\n",
       "    </tr>\n",
       "    <tr>\n",
       "      <th>31488</th>\n",
       "      <td>French Toast Sticks</td>\n",
       "      <td>NaN</td>\n",
       "      <td>NaN</td>\n",
       "      <td>NaN</td>\n",
       "    </tr>\n",
       "    <tr>\n",
       "      <th>6578</th>\n",
       "      <td>Mandarin Organic Float Drink</td>\n",
       "      <td>NaN</td>\n",
       "      <td>NaN</td>\n",
       "      <td>NaN</td>\n",
       "    </tr>\n",
       "    <tr>\n",
       "      <th>180375</th>\n",
       "      <td>blanc de blanc</td>\n",
       "      <td>NaN</td>\n",
       "      <td>NaN</td>\n",
       "      <td>NaN</td>\n",
       "    </tr>\n",
       "    <tr>\n",
       "      <th>171273</th>\n",
       "      <td>White Bread, Whole Grain</td>\n",
       "      <td>NaN</td>\n",
       "      <td>NaN</td>\n",
       "      <td>NaN</td>\n",
       "    </tr>\n",
       "  </tbody>\n",
       "</table>\n",
       "</div>"
      ],
      "text/plain": [
       "                                             product_name  \\\n",
       "80633                   Daily Fish'n'Chips Salt & Vinegar   \n",
       "243703                                            Gruyère   \n",
       "314704                        Ketchup (offre saisonnière)   \n",
       "205127                             Frites Batatas Fritas    \n",
       "52834                Organic Grape Juice From Concentrate   \n",
       "10956                     Mini Pizza Bagels, Three Cheese   \n",
       "243377                      Vinaigre balsamique de Modène   \n",
       "23172          Fresco, Authentic Mexican Crumbling Cheese   \n",
       "11123                                           Chocolate   \n",
       "285558                            Baking Spray With Flour   \n",
       "75101                          Rutter's, Unsweetened Iced   \n",
       "14469                                         Apple Sauce   \n",
       "298288                                   Chocolat au lait   \n",
       "188993                                  Buitoni Fraich'up   \n",
       "115348                          Agramunt Nougat, Hazelnut   \n",
       "309775       Patatas fritas en palitos &quot;Aliada&quot;   \n",
       "41608                                      Sliced Carrots   \n",
       "71138                    Turnip Greens With Diced Turnips   \n",
       "87117                                               Juice   \n",
       "61683                                     Roasted Edamame   \n",
       "208543                                 Cœurs d'Artichauts   \n",
       "100376              Unique, Pretzel Shells, Bacon Cheddar   \n",
       "208717                      Génoises chocolat noir orange   \n",
       "120709  Chng Kee's, Seasoning Mix For Hainanese Chicke...   \n",
       "45165                                    Butterfly Shrimp   \n",
       "290885                                                NaN   \n",
       "48893                        5 Star, Crumbled Feta Cheese   \n",
       "53655                    Chipotle Agave, Sandwich Slicers   \n",
       "164774             Life Ice, Bite-Sized Ices, Green Grind   \n",
       "265119                                      Kokosöl nativ   \n",
       "211678    Filets de Sardines Aux Herbes Et Petits Legumes   \n",
       "113473                    Truite fumée bio du Mont-Lozère   \n",
       "150693                    Organic Rice Crackers, Sea Salt   \n",
       "255814             Jufka svjeze tijesto za pite i baklave   \n",
       "50839                                             Cashews   \n",
       "140831  Epoca, Yogudino, Probiotic Dairy Beverage Smoo...   \n",
       "91686                           Peanut Bar, Sweet & Spicy   \n",
       "250674                               Pain aux graines bio   \n",
       "185688                       Saucisse sèche aux noisettes   \n",
       "91626     Toast Chee, Reduced Fat Crackers, Peanut Butter   \n",
       "238251                             Crevettes cuites Jumbo   \n",
       "153461                                    Gummy X's & O's   \n",
       "151372                    Organic Four Cheese Pasta Sauce   \n",
       "271116                                      Martini Rosso   \n",
       "31488                                 French Toast Sticks   \n",
       "6578                         Mandarin Organic Float Drink   \n",
       "180375                                     blanc de blanc   \n",
       "171273                           White Bread, Whole Grain   \n",
       "\n",
       "                             main_category          pnns_groups_1  \\\n",
       "80633                      en:salty-snacks           Salty snacks   \n",
       "243703                                 NaN                    NaN   \n",
       "314704                        en:groceries         Fat and sauces   \n",
       "205127                                 NaN                    NaN   \n",
       "52834                                  NaN                    NaN   \n",
       "10956                                  NaN                    NaN   \n",
       "243377                         en:vinegars         Fat and sauces   \n",
       "23172                                  NaN                    NaN   \n",
       "11123                                  NaN                    NaN   \n",
       "285558                                 NaN                    NaN   \n",
       "75101                                  NaN                    NaN   \n",
       "14469                                  NaN                    NaN   \n",
       "298288                                 NaN                    NaN   \n",
       "188993                     en:frozen-foods                unknown   \n",
       "115348                                 NaN                    NaN   \n",
       "309775  en:plant-based-foods-and-beverages           Salty snacks   \n",
       "41608                                  NaN                    NaN   \n",
       "71138                                  NaN                    NaN   \n",
       "87117                                  NaN                    NaN   \n",
       "61683                                  NaN                    NaN   \n",
       "208543                     en:canned-foods  Fruits and vegetables   \n",
       "100376                                 NaN                    NaN   \n",
       "208717                            en:cakes          Sugary snacks   \n",
       "120709                                 NaN                    NaN   \n",
       "45165                                  NaN                    NaN   \n",
       "290885                                 NaN                    NaN   \n",
       "48893                                  NaN                    NaN   \n",
       "53655                                  NaN                    NaN   \n",
       "164774                                 NaN                    NaN   \n",
       "265119                   en:vegetable-oils         Fat and sauces   \n",
       "211678                  en:canned-sardines         Fish Meat Eggs   \n",
       "113473                    en:smoked-fishes         Fish Meat Eggs   \n",
       "150693                                 NaN                    NaN   \n",
       "255814                                 NaN                    NaN   \n",
       "50839                                  NaN                    NaN   \n",
       "140831                                 NaN                    NaN   \n",
       "91686                                  NaN                    NaN   \n",
       "250674                                 NaN                    NaN   \n",
       "185688                       fr:saucissons         Fish Meat Eggs   \n",
       "91626                                  NaN                    NaN   \n",
       "238251                      en:crustaceans         Fish Meat Eggs   \n",
       "153461                                 NaN                    NaN   \n",
       "151372                                 NaN                    NaN   \n",
       "271116                        it:aperifitf                unknown   \n",
       "31488                                  NaN                    NaN   \n",
       "6578                                   NaN                    NaN   \n",
       "180375                                 NaN                    NaN   \n",
       "171273                                 NaN                    NaN   \n",
       "\n",
       "               pnns_groups_2  \n",
       "80633             Appetizers  \n",
       "243703                   NaN  \n",
       "314704  Dressings and sauces  \n",
       "205127                   NaN  \n",
       "52834                    NaN  \n",
       "10956                    NaN  \n",
       "243377  Dressings and sauces  \n",
       "23172                    NaN  \n",
       "11123                    NaN  \n",
       "285558                   NaN  \n",
       "75101                    NaN  \n",
       "14469                    NaN  \n",
       "298288                   NaN  \n",
       "188993               unknown  \n",
       "115348                   NaN  \n",
       "309775            Appetizers  \n",
       "41608                    NaN  \n",
       "71138                    NaN  \n",
       "87117                    NaN  \n",
       "61683                    NaN  \n",
       "208543            Vegetables  \n",
       "100376                   NaN  \n",
       "208717    Biscuits and cakes  \n",
       "120709                   NaN  \n",
       "45165                    NaN  \n",
       "290885                   NaN  \n",
       "48893                    NaN  \n",
       "53655                    NaN  \n",
       "164774                   NaN  \n",
       "265119                  Fats  \n",
       "211678      Fish and seafood  \n",
       "113473      Fish and seafood  \n",
       "150693                   NaN  \n",
       "255814                   NaN  \n",
       "50839                    NaN  \n",
       "140831                   NaN  \n",
       "91686                    NaN  \n",
       "250674                   NaN  \n",
       "185688        Processed meat  \n",
       "91626                    NaN  \n",
       "238251      Fish and seafood  \n",
       "153461                   NaN  \n",
       "151372                   NaN  \n",
       "271116               unknown  \n",
       "31488                    NaN  \n",
       "6578                     NaN  \n",
       "180375                   NaN  \n",
       "171273                   NaN  "
      ]
     },
     "execution_count": 20,
     "metadata": {},
     "output_type": "execute_result"
    }
   ],
   "source": [
    "my_data.sample(50)[['product_name','main_category','pnns_groups_1','pnns_groups_2']].drop_duplicates()"
   ]
  },
  {
   "cell_type": "code",
   "execution_count": 21,
   "metadata": {},
   "outputs": [
    {
     "data": {
      "text/html": [
       "<div>\n",
       "<style>\n",
       "    .dataframe thead tr:only-child th {\n",
       "        text-align: right;\n",
       "    }\n",
       "\n",
       "    .dataframe thead th {\n",
       "        text-align: left;\n",
       "    }\n",
       "\n",
       "    .dataframe tbody tr th {\n",
       "        vertical-align: top;\n",
       "    }\n",
       "</style>\n",
       "<table border=\"1\" class=\"dataframe\">\n",
       "  <thead>\n",
       "    <tr style=\"text-align: right;\">\n",
       "      <th></th>\n",
       "      <th>additives_n</th>\n",
       "      <th>ingredients_from_palm_oil_n</th>\n",
       "      <th>ingredients_that_may_be_from_palm_oil_n</th>\n",
       "      <th>energy_100g</th>\n",
       "      <th>fat_100g</th>\n",
       "      <th>saturated_fat_100g</th>\n",
       "      <th>monounsaturated_fat_100g</th>\n",
       "      <th>polyunsaturated_fat_100g</th>\n",
       "      <th>trans_fat_100g</th>\n",
       "      <th>cholesterol_100g</th>\n",
       "      <th>...</th>\n",
       "      <th>calcium_100g</th>\n",
       "      <th>phosphorus_100g</th>\n",
       "      <th>iron_100g</th>\n",
       "      <th>magnesium_100g</th>\n",
       "      <th>zinc_100g</th>\n",
       "      <th>copper_100g</th>\n",
       "      <th>manganese_100g</th>\n",
       "      <th>fruits_vegetables_nuts_100g</th>\n",
       "      <th>nutrition_score_fr_100g</th>\n",
       "      <th>nutrition_score_uk_100g</th>\n",
       "    </tr>\n",
       "  </thead>\n",
       "  <tbody>\n",
       "    <tr>\n",
       "      <th>0</th>\n",
       "      <td>NaN</td>\n",
       "      <td>NaN</td>\n",
       "      <td>NaN</td>\n",
       "      <td>NaN</td>\n",
       "      <td>NaN</td>\n",
       "      <td>NaN</td>\n",
       "      <td>NaN</td>\n",
       "      <td>NaN</td>\n",
       "      <td>NaN</td>\n",
       "      <td>NaN</td>\n",
       "      <td>...</td>\n",
       "      <td>NaN</td>\n",
       "      <td>NaN</td>\n",
       "      <td>NaN</td>\n",
       "      <td>NaN</td>\n",
       "      <td>NaN</td>\n",
       "      <td>NaN</td>\n",
       "      <td>NaN</td>\n",
       "      <td>NaN</td>\n",
       "      <td>NaN</td>\n",
       "      <td>NaN</td>\n",
       "    </tr>\n",
       "    <tr>\n",
       "      <th>1</th>\n",
       "      <td>0.0</td>\n",
       "      <td>0.0</td>\n",
       "      <td>0.0</td>\n",
       "      <td>2243.0</td>\n",
       "      <td>28.57</td>\n",
       "      <td>28.57</td>\n",
       "      <td>NaN</td>\n",
       "      <td>NaN</td>\n",
       "      <td>0.0</td>\n",
       "      <td>0.018</td>\n",
       "      <td>...</td>\n",
       "      <td>0.000</td>\n",
       "      <td>NaN</td>\n",
       "      <td>0.00129</td>\n",
       "      <td>NaN</td>\n",
       "      <td>NaN</td>\n",
       "      <td>NaN</td>\n",
       "      <td>NaN</td>\n",
       "      <td>NaN</td>\n",
       "      <td>14.0</td>\n",
       "      <td>14.0</td>\n",
       "    </tr>\n",
       "    <tr>\n",
       "      <th>2</th>\n",
       "      <td>0.0</td>\n",
       "      <td>0.0</td>\n",
       "      <td>0.0</td>\n",
       "      <td>1941.0</td>\n",
       "      <td>17.86</td>\n",
       "      <td>0.00</td>\n",
       "      <td>NaN</td>\n",
       "      <td>NaN</td>\n",
       "      <td>0.0</td>\n",
       "      <td>0.000</td>\n",
       "      <td>...</td>\n",
       "      <td>0.071</td>\n",
       "      <td>NaN</td>\n",
       "      <td>0.00129</td>\n",
       "      <td>NaN</td>\n",
       "      <td>NaN</td>\n",
       "      <td>NaN</td>\n",
       "      <td>NaN</td>\n",
       "      <td>NaN</td>\n",
       "      <td>0.0</td>\n",
       "      <td>0.0</td>\n",
       "    </tr>\n",
       "    <tr>\n",
       "      <th>3</th>\n",
       "      <td>0.0</td>\n",
       "      <td>0.0</td>\n",
       "      <td>0.0</td>\n",
       "      <td>2540.0</td>\n",
       "      <td>57.14</td>\n",
       "      <td>5.36</td>\n",
       "      <td>NaN</td>\n",
       "      <td>NaN</td>\n",
       "      <td>NaN</td>\n",
       "      <td>NaN</td>\n",
       "      <td>...</td>\n",
       "      <td>0.143</td>\n",
       "      <td>NaN</td>\n",
       "      <td>0.00514</td>\n",
       "      <td>NaN</td>\n",
       "      <td>NaN</td>\n",
       "      <td>NaN</td>\n",
       "      <td>NaN</td>\n",
       "      <td>NaN</td>\n",
       "      <td>12.0</td>\n",
       "      <td>12.0</td>\n",
       "    </tr>\n",
       "    <tr>\n",
       "      <th>4</th>\n",
       "      <td>0.0</td>\n",
       "      <td>0.0</td>\n",
       "      <td>0.0</td>\n",
       "      <td>1552.0</td>\n",
       "      <td>1.43</td>\n",
       "      <td>NaN</td>\n",
       "      <td>NaN</td>\n",
       "      <td>NaN</td>\n",
       "      <td>NaN</td>\n",
       "      <td>NaN</td>\n",
       "      <td>...</td>\n",
       "      <td>NaN</td>\n",
       "      <td>NaN</td>\n",
       "      <td>NaN</td>\n",
       "      <td>NaN</td>\n",
       "      <td>NaN</td>\n",
       "      <td>NaN</td>\n",
       "      <td>NaN</td>\n",
       "      <td>NaN</td>\n",
       "      <td>NaN</td>\n",
       "      <td>NaN</td>\n",
       "    </tr>\n",
       "  </tbody>\n",
       "</table>\n",
       "<p>5 rows × 39 columns</p>\n",
       "</div>"
      ],
      "text/plain": [
       "   additives_n  ingredients_from_palm_oil_n  \\\n",
       "0          NaN                          NaN   \n",
       "1          0.0                          0.0   \n",
       "2          0.0                          0.0   \n",
       "3          0.0                          0.0   \n",
       "4          0.0                          0.0   \n",
       "\n",
       "   ingredients_that_may_be_from_palm_oil_n  energy_100g  fat_100g  \\\n",
       "0                                      NaN          NaN       NaN   \n",
       "1                                      0.0       2243.0     28.57   \n",
       "2                                      0.0       1941.0     17.86   \n",
       "3                                      0.0       2540.0     57.14   \n",
       "4                                      0.0       1552.0      1.43   \n",
       "\n",
       "   saturated_fat_100g  monounsaturated_fat_100g  polyunsaturated_fat_100g  \\\n",
       "0                 NaN                       NaN                       NaN   \n",
       "1               28.57                       NaN                       NaN   \n",
       "2                0.00                       NaN                       NaN   \n",
       "3                5.36                       NaN                       NaN   \n",
       "4                 NaN                       NaN                       NaN   \n",
       "\n",
       "   trans_fat_100g  cholesterol_100g           ...             calcium_100g  \\\n",
       "0             NaN               NaN           ...                      NaN   \n",
       "1             0.0             0.018           ...                    0.000   \n",
       "2             0.0             0.000           ...                    0.071   \n",
       "3             NaN               NaN           ...                    0.143   \n",
       "4             NaN               NaN           ...                      NaN   \n",
       "\n",
       "   phosphorus_100g  iron_100g  magnesium_100g  zinc_100g  copper_100g  \\\n",
       "0              NaN        NaN             NaN        NaN          NaN   \n",
       "1              NaN    0.00129             NaN        NaN          NaN   \n",
       "2              NaN    0.00129             NaN        NaN          NaN   \n",
       "3              NaN    0.00514             NaN        NaN          NaN   \n",
       "4              NaN        NaN             NaN        NaN          NaN   \n",
       "\n",
       "   manganese_100g  fruits_vegetables_nuts_100g  nutrition_score_fr_100g  \\\n",
       "0             NaN                          NaN                      NaN   \n",
       "1             NaN                          NaN                     14.0   \n",
       "2             NaN                          NaN                      0.0   \n",
       "3             NaN                          NaN                     12.0   \n",
       "4             NaN                          NaN                      NaN   \n",
       "\n",
       "   nutrition_score_uk_100g  \n",
       "0                      NaN  \n",
       "1                     14.0  \n",
       "2                      0.0  \n",
       "3                     12.0  \n",
       "4                      NaN  \n",
       "\n",
       "[5 rows x 39 columns]"
      ]
     },
     "execution_count": 21,
     "metadata": {},
     "output_type": "execute_result"
    }
   ],
   "source": [
    "# select numeric columns\n",
    "df_num = my_data.select_dtypes(include=[np.number])\n",
    "df_num.head()"
   ]
  },
  {
   "cell_type": "code",
   "execution_count": 22,
   "metadata": {},
   "outputs": [
    {
     "data": {
      "text/html": [
       "<div>\n",
       "<style>\n",
       "    .dataframe thead tr:only-child th {\n",
       "        text-align: right;\n",
       "    }\n",
       "\n",
       "    .dataframe thead th {\n",
       "        text-align: left;\n",
       "    }\n",
       "\n",
       "    .dataframe tbody tr th {\n",
       "        vertical-align: top;\n",
       "    }\n",
       "</style>\n",
       "<table border=\"1\" class=\"dataframe\">\n",
       "  <thead>\n",
       "    <tr style=\"text-align: right;\">\n",
       "      <th></th>\n",
       "      <th>additives_n</th>\n",
       "      <th>ingredients_from_palm_oil_n</th>\n",
       "      <th>ingredients_that_may_be_from_palm_oil_n</th>\n",
       "      <th>energy_100g</th>\n",
       "      <th>fat_100g</th>\n",
       "      <th>saturated_fat_100g</th>\n",
       "      <th>monounsaturated_fat_100g</th>\n",
       "      <th>polyunsaturated_fat_100g</th>\n",
       "      <th>trans_fat_100g</th>\n",
       "      <th>cholesterol_100g</th>\n",
       "      <th>...</th>\n",
       "      <th>calcium_100g</th>\n",
       "      <th>phosphorus_100g</th>\n",
       "      <th>iron_100g</th>\n",
       "      <th>magnesium_100g</th>\n",
       "      <th>zinc_100g</th>\n",
       "      <th>copper_100g</th>\n",
       "      <th>manganese_100g</th>\n",
       "      <th>fruits_vegetables_nuts_100g</th>\n",
       "      <th>nutrition_score_fr_100g</th>\n",
       "      <th>nutrition_score_uk_100g</th>\n",
       "    </tr>\n",
       "  </thead>\n",
       "  <tbody>\n",
       "    <tr>\n",
       "      <th>count</th>\n",
       "      <td>248939.000000</td>\n",
       "      <td>248939.000000</td>\n",
       "      <td>248939.000000</td>\n",
       "      <td>2.611130e+05</td>\n",
       "      <td>243891.000000</td>\n",
       "      <td>229554.000000</td>\n",
       "      <td>22823.000000</td>\n",
       "      <td>22859.000000</td>\n",
       "      <td>143298.000000</td>\n",
       "      <td>144090.000000</td>\n",
       "      <td>...</td>\n",
       "      <td>141050.000000</td>\n",
       "      <td>5845.000000</td>\n",
       "      <td>140462.000000</td>\n",
       "      <td>6253.000000</td>\n",
       "      <td>3929.000000</td>\n",
       "      <td>2106.000000</td>\n",
       "      <td>1620.000000</td>\n",
       "      <td>3036.000000</td>\n",
       "      <td>221210.000000</td>\n",
       "      <td>221210.000000</td>\n",
       "    </tr>\n",
       "    <tr>\n",
       "      <th>mean</th>\n",
       "      <td>1.936024</td>\n",
       "      <td>0.019659</td>\n",
       "      <td>0.055246</td>\n",
       "      <td>1.141915e+03</td>\n",
       "      <td>12.730379</td>\n",
       "      <td>5.129932</td>\n",
       "      <td>10.425055</td>\n",
       "      <td>6.312493</td>\n",
       "      <td>0.073476</td>\n",
       "      <td>0.020071</td>\n",
       "      <td>...</td>\n",
       "      <td>0.125163</td>\n",
       "      <td>0.617282</td>\n",
       "      <td>0.003652</td>\n",
       "      <td>0.534143</td>\n",
       "      <td>0.007950</td>\n",
       "      <td>0.025794</td>\n",
       "      <td>0.003014</td>\n",
       "      <td>31.458587</td>\n",
       "      <td>9.165535</td>\n",
       "      <td>9.058049</td>\n",
       "    </tr>\n",
       "    <tr>\n",
       "      <th>std</th>\n",
       "      <td>2.502019</td>\n",
       "      <td>0.140524</td>\n",
       "      <td>0.269207</td>\n",
       "      <td>6.447154e+03</td>\n",
       "      <td>17.578747</td>\n",
       "      <td>8.014238</td>\n",
       "      <td>17.076167</td>\n",
       "      <td>10.832591</td>\n",
       "      <td>1.540223</td>\n",
       "      <td>0.358062</td>\n",
       "      <td>...</td>\n",
       "      <td>3.318263</td>\n",
       "      <td>12.058090</td>\n",
       "      <td>0.214408</td>\n",
       "      <td>13.498653</td>\n",
       "      <td>0.080953</td>\n",
       "      <td>0.914247</td>\n",
       "      <td>0.028036</td>\n",
       "      <td>31.967918</td>\n",
       "      <td>9.055903</td>\n",
       "      <td>9.183589</td>\n",
       "    </tr>\n",
       "    <tr>\n",
       "      <th>min</th>\n",
       "      <td>0.000000</td>\n",
       "      <td>0.000000</td>\n",
       "      <td>0.000000</td>\n",
       "      <td>0.000000e+00</td>\n",
       "      <td>0.000000</td>\n",
       "      <td>0.000000</td>\n",
       "      <td>0.000000</td>\n",
       "      <td>0.000000</td>\n",
       "      <td>-3.570000</td>\n",
       "      <td>0.000000</td>\n",
       "      <td>...</td>\n",
       "      <td>0.000000</td>\n",
       "      <td>0.000000</td>\n",
       "      <td>-0.000260</td>\n",
       "      <td>0.000000</td>\n",
       "      <td>0.000000</td>\n",
       "      <td>-6.896552</td>\n",
       "      <td>0.000000</td>\n",
       "      <td>0.000000</td>\n",
       "      <td>-15.000000</td>\n",
       "      <td>-15.000000</td>\n",
       "    </tr>\n",
       "    <tr>\n",
       "      <th>25%</th>\n",
       "      <td>0.000000</td>\n",
       "      <td>0.000000</td>\n",
       "      <td>0.000000</td>\n",
       "      <td>3.770000e+02</td>\n",
       "      <td>0.000000</td>\n",
       "      <td>0.000000</td>\n",
       "      <td>0.000000</td>\n",
       "      <td>0.000000</td>\n",
       "      <td>0.000000</td>\n",
       "      <td>0.000000</td>\n",
       "      <td>...</td>\n",
       "      <td>0.000000</td>\n",
       "      <td>0.094000</td>\n",
       "      <td>0.000000</td>\n",
       "      <td>0.021000</td>\n",
       "      <td>0.001150</td>\n",
       "      <td>0.000177</td>\n",
       "      <td>0.000000</td>\n",
       "      <td>0.000000</td>\n",
       "      <td>1.000000</td>\n",
       "      <td>1.000000</td>\n",
       "    </tr>\n",
       "    <tr>\n",
       "      <th>50%</th>\n",
       "      <td>1.000000</td>\n",
       "      <td>0.000000</td>\n",
       "      <td>0.000000</td>\n",
       "      <td>1.100000e+03</td>\n",
       "      <td>5.000000</td>\n",
       "      <td>1.790000</td>\n",
       "      <td>4.000000</td>\n",
       "      <td>2.220000</td>\n",
       "      <td>0.000000</td>\n",
       "      <td>0.000000</td>\n",
       "      <td>...</td>\n",
       "      <td>0.035000</td>\n",
       "      <td>0.206000</td>\n",
       "      <td>0.001010</td>\n",
       "      <td>0.075000</td>\n",
       "      <td>0.003700</td>\n",
       "      <td>0.000417</td>\n",
       "      <td>0.001000</td>\n",
       "      <td>23.000000</td>\n",
       "      <td>10.000000</td>\n",
       "      <td>9.000000</td>\n",
       "    </tr>\n",
       "    <tr>\n",
       "      <th>75%</th>\n",
       "      <td>3.000000</td>\n",
       "      <td>0.000000</td>\n",
       "      <td>0.000000</td>\n",
       "      <td>1.674000e+03</td>\n",
       "      <td>20.000000</td>\n",
       "      <td>7.140000</td>\n",
       "      <td>10.710000</td>\n",
       "      <td>7.140000</td>\n",
       "      <td>0.000000</td>\n",
       "      <td>0.020000</td>\n",
       "      <td>...</td>\n",
       "      <td>0.106000</td>\n",
       "      <td>0.357000</td>\n",
       "      <td>0.002400</td>\n",
       "      <td>0.141000</td>\n",
       "      <td>0.007500</td>\n",
       "      <td>0.001000</td>\n",
       "      <td>0.002000</td>\n",
       "      <td>51.000000</td>\n",
       "      <td>16.000000</td>\n",
       "      <td>16.000000</td>\n",
       "    </tr>\n",
       "    <tr>\n",
       "      <th>max</th>\n",
       "      <td>31.000000</td>\n",
       "      <td>2.000000</td>\n",
       "      <td>6.000000</td>\n",
       "      <td>3.251373e+06</td>\n",
       "      <td>714.290000</td>\n",
       "      <td>550.000000</td>\n",
       "      <td>557.140000</td>\n",
       "      <td>98.000000</td>\n",
       "      <td>369.000000</td>\n",
       "      <td>95.238000</td>\n",
       "      <td>...</td>\n",
       "      <td>694.737000</td>\n",
       "      <td>559.459000</td>\n",
       "      <td>50.000000</td>\n",
       "      <td>657.143000</td>\n",
       "      <td>4.000000</td>\n",
       "      <td>37.600000</td>\n",
       "      <td>0.700000</td>\n",
       "      <td>100.000000</td>\n",
       "      <td>40.000000</td>\n",
       "      <td>40.000000</td>\n",
       "    </tr>\n",
       "  </tbody>\n",
       "</table>\n",
       "<p>8 rows × 39 columns</p>\n",
       "</div>"
      ],
      "text/plain": [
       "         additives_n  ingredients_from_palm_oil_n  \\\n",
       "count  248939.000000                248939.000000   \n",
       "mean        1.936024                     0.019659   \n",
       "std         2.502019                     0.140524   \n",
       "min         0.000000                     0.000000   \n",
       "25%         0.000000                     0.000000   \n",
       "50%         1.000000                     0.000000   \n",
       "75%         3.000000                     0.000000   \n",
       "max        31.000000                     2.000000   \n",
       "\n",
       "       ingredients_that_may_be_from_palm_oil_n   energy_100g       fat_100g  \\\n",
       "count                            248939.000000  2.611130e+05  243891.000000   \n",
       "mean                                  0.055246  1.141915e+03      12.730379   \n",
       "std                                   0.269207  6.447154e+03      17.578747   \n",
       "min                                   0.000000  0.000000e+00       0.000000   \n",
       "25%                                   0.000000  3.770000e+02       0.000000   \n",
       "50%                                   0.000000  1.100000e+03       5.000000   \n",
       "75%                                   0.000000  1.674000e+03      20.000000   \n",
       "max                                   6.000000  3.251373e+06     714.290000   \n",
       "\n",
       "       saturated_fat_100g  monounsaturated_fat_100g  polyunsaturated_fat_100g  \\\n",
       "count       229554.000000              22823.000000              22859.000000   \n",
       "mean             5.129932                 10.425055                  6.312493   \n",
       "std              8.014238                 17.076167                 10.832591   \n",
       "min              0.000000                  0.000000                  0.000000   \n",
       "25%              0.000000                  0.000000                  0.000000   \n",
       "50%              1.790000                  4.000000                  2.220000   \n",
       "75%              7.140000                 10.710000                  7.140000   \n",
       "max            550.000000                557.140000                 98.000000   \n",
       "\n",
       "       trans_fat_100g  cholesterol_100g           ...             \\\n",
       "count   143298.000000     144090.000000           ...              \n",
       "mean         0.073476          0.020071           ...              \n",
       "std          1.540223          0.358062           ...              \n",
       "min         -3.570000          0.000000           ...              \n",
       "25%          0.000000          0.000000           ...              \n",
       "50%          0.000000          0.000000           ...              \n",
       "75%          0.000000          0.020000           ...              \n",
       "max        369.000000         95.238000           ...              \n",
       "\n",
       "        calcium_100g  phosphorus_100g      iron_100g  magnesium_100g  \\\n",
       "count  141050.000000      5845.000000  140462.000000     6253.000000   \n",
       "mean        0.125163         0.617282       0.003652        0.534143   \n",
       "std         3.318263        12.058090       0.214408       13.498653   \n",
       "min         0.000000         0.000000      -0.000260        0.000000   \n",
       "25%         0.000000         0.094000       0.000000        0.021000   \n",
       "50%         0.035000         0.206000       0.001010        0.075000   \n",
       "75%         0.106000         0.357000       0.002400        0.141000   \n",
       "max       694.737000       559.459000      50.000000      657.143000   \n",
       "\n",
       "         zinc_100g  copper_100g  manganese_100g  fruits_vegetables_nuts_100g  \\\n",
       "count  3929.000000  2106.000000     1620.000000                  3036.000000   \n",
       "mean      0.007950     0.025794        0.003014                    31.458587   \n",
       "std       0.080953     0.914247        0.028036                    31.967918   \n",
       "min       0.000000    -6.896552        0.000000                     0.000000   \n",
       "25%       0.001150     0.000177        0.000000                     0.000000   \n",
       "50%       0.003700     0.000417        0.001000                    23.000000   \n",
       "75%       0.007500     0.001000        0.002000                    51.000000   \n",
       "max       4.000000    37.600000        0.700000                   100.000000   \n",
       "\n",
       "       nutrition_score_fr_100g  nutrition_score_uk_100g  \n",
       "count            221210.000000            221210.000000  \n",
       "mean                  9.165535                 9.058049  \n",
       "std                   9.055903                 9.183589  \n",
       "min                 -15.000000               -15.000000  \n",
       "25%                   1.000000                 1.000000  \n",
       "50%                  10.000000                 9.000000  \n",
       "75%                  16.000000                16.000000  \n",
       "max                  40.000000                40.000000  \n",
       "\n",
       "[8 rows x 39 columns]"
      ]
     },
     "execution_count": 22,
     "metadata": {},
     "output_type": "execute_result"
    }
   ],
   "source": [
    "df_num.describe()"
   ]
  },
  {
   "cell_type": "markdown",
   "metadata": {},
   "source": [
    "## Autres colonnes"
   ]
  },
  {
   "cell_type": "markdown",
   "metadata": {},
   "source": [
    ">On a encore beaucoup de colonnes dont certaines pourraient être utiles pour un client recherchant des aliments sains :\n",
    ">>- Présence d'additifs\n",
    "\n",
    ">>- Ingrédients contenant de l'huile de palme\n",
    "\n",
    ">>- Origine, pays de provenance et empreinte carbone pour une recherche de circuit court...\n",
    "\n",
    ">Ces colonnes demanderait un peu plus de temps d'analyse donc dans un premier temps on va se concentrer sur les valeurs numériques que l'on a et ne garder que les colonnes du type xxx_100g.\n",
    "\n",
    ">On va se baser sur le score français pour la suite (on verra que le score uk et le grade sont des informations redondantes) \n"
   ]
  },
  {
   "cell_type": "code",
   "execution_count": 23,
   "metadata": {
    "collapsed": true
   },
   "outputs": [],
   "source": [
    "# On ne garde que les colonnes avec des valeurs nutritionnelles, les scores et les groupes\n",
    "def GetNut(p_df):\n",
    "    ret = p_df.copy()\n",
    "    for i in ret.columns:\n",
    "        if not ('_100g' in i or 'nutrition' in i or 'pnns_groups' in i):\n",
    "            #print(i)\n",
    "            ret = ret.drop(i, axis=1)\n",
    "    print(\"%i colonnes en moins (colonnes sans valeurs nutritionnelles)\" % (p_df.shape[1]-ret.shape[1]))\n",
    "    print(ret.shape)\n",
    "    return RemoveNullRow(ret)"
   ]
  },
  {
   "cell_type": "code",
   "execution_count": 24,
   "metadata": {
    "scrolled": false
   },
   "outputs": [
    {
     "name": "stdout",
     "output_type": "stream",
     "text": [
      "54 colonnes en moins (colonnes sans valeurs nutritionnelles)\n",
      "(320772, 39)\n",
      "On enlève les lignes dont toutes les valeurs sont manquantes\n",
      "32499 lignes en moins (valeurs toutes nulles)\n",
      "(288273, 39)\n"
     ]
    }
   ],
   "source": [
    "my_data_nut = GetNut(my_data)"
   ]
  },
  {
   "cell_type": "markdown",
   "metadata": {},
   "source": [
    "## Valeurs négatives"
   ]
  },
  {
   "cell_type": "code",
   "execution_count": 25,
   "metadata": {
    "collapsed": true
   },
   "outputs": [],
   "source": [
    "def RemoveNegatives(p_df):\n",
    "    print('On enlève les valeurs négatives')\n",
    "    for i in p_df.columns:\n",
    "        # Il y a des scores négatifs mais c'est normal\n",
    "        if 'nutrition' in i: continue\n",
    "        if p_df[i].dtype == 'object': continue\n",
    "        neg = p_df[p_df[i] < 0].shape[0]\n",
    "        if neg > 0:\n",
    "            if verbose > 0:\n",
    "                print(neg, 'valeurs négatives pour', i)\n",
    "        # On remplace par 0\n",
    "        #p_df[i] = p_df[i].clip(lower=0)\n",
    "        # On supprime\n",
    "        p_df = p_df[(p_df[i] < 0) == False]\n",
    "    print(p_df.shape)\n",
    "    return p_df"
   ]
  },
  {
   "cell_type": "code",
   "execution_count": 26,
   "metadata": {},
   "outputs": [
    {
     "name": "stdout",
     "output_type": "stream",
     "text": [
      "On enlève les valeurs négatives\n",
      "4 valeurs négatives pour trans_fat_100g\n",
      "7 valeurs négatives pour sugars_100g\n",
      "1 valeurs négatives pour fiber_100g\n",
      "3 valeurs négatives pour proteins_100g\n",
      "1 valeurs négatives pour vitamin_a_100g\n",
      "1 valeurs négatives pour vitamin_c_100g\n",
      "8 valeurs négatives pour pantothenic_acid_100g\n",
      "1 valeurs négatives pour iron_100g\n",
      "1 valeurs négatives pour copper_100g\n",
      "(288246, 39)\n"
     ]
    }
   ],
   "source": [
    "verbose = 1\n",
    "my_data_nut = RemoveNegatives(my_data_nut)"
   ]
  },
  {
   "cell_type": "markdown",
   "metadata": {},
   "source": [
    "## Outliers"
   ]
  },
  {
   "cell_type": "code",
   "execution_count": 27,
   "metadata": {
    "collapsed": true
   },
   "outputs": [],
   "source": [
    "def RemoveOutliers(p_df):\n",
    "    print('On enlève les outliers')\n",
    "    for i in p_df.columns:\n",
    "        if 'nutrition' in i: continue\n",
    "        if my_data_nut[i].dtype == 'object': continue\n",
    "\n",
    "        # Etude sur un échantillon représentatif (les valeurs positives)\n",
    "        df = p_df[p_df[i] > 0]\n",
    "        if df.shape[0] == 0:\n",
    "            continue\n",
    "    #    nbTot = my_data_nut[my_data_nut[i]>0].shape[0]\n",
    "    #    if nbTot < 5000:\n",
    "    #        print(\"Trop peu de valeurs (%i) pour %s\" % (nbTot, i))\n",
    "    #        continue\n",
    "\n",
    "        # Outliers\n",
    "        q75, q25 = np.percentile(df[i], [75 ,25])\n",
    "        iqr = q75 - q25\n",
    "\n",
    "        nbmax = q75 + (iqr*1.5)\n",
    "        nbmax = q75 + (iqr*5) # Je prends une valeur plus haute car il sinon on sort trop de lignes\n",
    "        nbOutliers = p_df[p_df[i]>nbmax].shape[0]\n",
    "        if nbOutliers > 0:\n",
    "            if verbose > 0:\n",
    "                print(\"%i valeurs supérieures à %f pour %s (max=%f)\" % (nbOutliers, nbmax, i, np.max(p_df[i])))\n",
    "            p_df = p_df[(p_df[i] > nbmax) == False]\n",
    "    \n",
    "    print(p_df.shape)\n",
    "    return p_df"
   ]
  },
  {
   "cell_type": "code",
   "execution_count": 28,
   "metadata": {},
   "outputs": [
    {
     "name": "stdout",
     "output_type": "stream",
     "text": [
      "On enlève les outliers\n",
      "27 valeurs supérieures à 7894.000000 pour energy_100g (max=3251373.000000)\n",
      "624 valeurs supérieures à 56.500000 pour saturated_fat_100g (max=100.000000)\n",
      "3 valeurs supérieures à 85.320000 pour monounsaturated_fat_100g (max=100.000000)\n",
      "355 valeurs supérieures à 55.310000 pour polyunsaturated_fat_100g (max=98.000000)\n",
      "61 valeurs supérieures à 19.020000 pour trans_fat_100g (max=369.000000)\n",
      "241 valeurs supérieures à 0.351000 pour cholesterol_100g (max=95.238000)\n",
      "1 valeurs supérieures à 319.410000 pour carbohydrates_100g (max=2916.670000)\n",
      "1480 valeurs supérieures à 24.900000 pour fiber_100g (max=178.000000)\n",
      "388 valeurs supérieures à 55.500000 pour proteins_100g (max=100.000000)\n",
      "5539 valeurs supérieures à 8.369300 pour salt_100g (max=64312.800000)\n",
      "182 valeurs supérieures à 3.130724 pour sodium_100g (max=3.294000)\n",
      "8 valeurs supérieures à 56.000000 pour alcohol_100g (max=97.900000)\n",
      "2055 valeurs supérieures à 0.001448 pour vitamin_a_100g (max=26.700000)\n",
      "72 valeurs supérieures à 0.000015 pour vitamin_d_100g (max=0.030000)\n",
      "1256 valeurs supérieures à 0.111400 pour vitamin_c_100g (max=370.370400)\n",
      "19 valeurs supérieures à 2.530000 pour vitamin_b1_100g (max=83.333000)\n",
      "56 valeurs supérieures à 1.806246 pour vitamin_b2_100g (max=26.785714)\n",
      "198 valeurs supérieures à 0.037334 pour vitamin_pp_100g (max=21.428571)\n",
      "39 valeurs supérieures à 0.006165 pour vitamin_b6_100g (max=1.700000)\n",
      "83 valeurs supérieures à 0.000270 pour vitamin_b9_100g (max=23.076923)\n",
      "15 valeurs supérieures à 0.001033 pour folates_100g (max=178.571429)\n",
      "48 valeurs supérieures à 0.000016 pour vitamin_b12_100g (max=0.400000)\n",
      "20 valeurs supérieures à 0.017906 pour pantothenic_acid_100g (max=33.330000)\n",
      "208 valeurs supérieures à 1.448000 pour potassium_100g (max=600.000000)\n",
      "5133 valeurs supérieures à 0.658000 pour calcium_100g (max=694.737000)\n",
      "13 valeurs supérieures à 1.558000 pour phosphorus_100g (max=410.870000)\n",
      "1579 valeurs supérieures à 0.012780 pour iron_100g (max=25.000000)\n",
      "10 valeurs supérieures à 0.736000 pour magnesium_100g (max=573.333000)\n",
      "3 valeurs supérieures à 0.023540 pour zinc_100g (max=2.800000)\n",
      "6 valeurs supérieures à 0.005427 pour copper_100g (max=16.483516)\n",
      "9 valeurs supérieures à 0.007000 pour manganese_100g (max=0.700000)\n",
      "(268515, 39)\n"
     ]
    }
   ],
   "source": [
    "verbose = 1\n",
    "my_data_nut = RemoveOutliers(my_data_nut)"
   ]
  },
  {
   "cell_type": "markdown",
   "metadata": {},
   "source": [
    "## Valeurs manquantes"
   ]
  },
  {
   "cell_type": "code",
   "execution_count": 29,
   "metadata": {
    "collapsed": true,
    "scrolled": true
   },
   "outputs": [],
   "source": [
    "# On met la moyenne dans les valeurs nutritives manquantes\n",
    "def ReplaceByMean(p_df):\n",
    "    print('On remplace les valeurs manquantes par la moyenne')\n",
    "    for i in p_df.columns:\n",
    "        if p_df[i].dtype == 'object': continue\n",
    "        if not ('nutrition' in i):\n",
    "            mean = np.mean(p_df[i])\n",
    "            p_df[i] = p_df[i].fillna(mean)\n",
    "    return p_df\n",
    "\n",
    "# En fait il y a tellement de valeurs manquantes que les remplacer par la moyenne ferait un gros paquet au centre\n",
    "# Je préfère mettre 0 pour les calculs globaux et ensuite pour l'analyse fine n'utiliser que les valeurs strictement positives \n",
    "def ReplaceByZero(p_df):\n",
    "    print('On remplace les valeurs manquantes par la zéro')\n",
    "    for i in p_df.columns:\n",
    "        if p_df[i].dtype == 'object': continue\n",
    "        if not ('nutrition' in i):\n",
    "            p_df[i] = p_df[i].fillna(0)\n",
    "    return p_df"
   ]
  },
  {
   "cell_type": "code",
   "execution_count": 30,
   "metadata": {},
   "outputs": [
    {
     "name": "stdout",
     "output_type": "stream",
     "text": [
      "On remplace les valeurs manquantes par la moyenne\n"
     ]
    }
   ],
   "source": [
    "my_data_nut = ReplaceByMean(my_data_nut)"
   ]
  },
  {
   "cell_type": "markdown",
   "metadata": {},
   "source": [
    "## Résumé"
   ]
  },
  {
   "cell_type": "code",
   "execution_count": 31,
   "metadata": {},
   "outputs": [],
   "source": [
    "# Permet de faire un nettoyage différent rapidement\n",
    "#verbose = 1\n",
    "# On enlève les colonnes avec moins de 5 lignes pour 1000 remplies\n",
    "#my_data = RemoveEmptyColumns(dataraw, 0.005)\n",
    "#my_data_nut = GetNut(my_data)\n",
    "#my_data_nut = RemoveNegatives(my_data_nut)\n",
    "#my_data_nut = RemoveOutliers(my_data_nut)\n",
    "#my_data_nut = RemoveNullRow(my_data_nut)\n",
    "#my_data_nut = ReplaceByMean(my_data_nut)   # ou ReplaceByZero"
   ]
  },
  {
   "cell_type": "markdown",
   "metadata": {},
   "source": [
    "## On exporte un fichier light pour une étude rapide"
   ]
  },
  {
   "cell_type": "code",
   "execution_count": 32,
   "metadata": {},
   "outputs": [
    {
     "name": "stdout",
     "output_type": "stream",
     "text": [
      "(206483, 39)\n",
      "(30000, 39)\n"
     ]
    }
   ],
   "source": [
    "col_score = ['nutrition_score_fr_100g', 'nutrition_score_uk_100g', 'nutrition_grade_fr']\n",
    "\n",
    "# On ne garde que les scores non nulls\n",
    "dflight = my_data_nut.copy()\n",
    "dflight.dropna(subset=col_score, inplace=True)\n",
    "print(dflight.shape)\n",
    "dflight.to_csv('clean_products_light.csv', sep=\"\\t\")\n",
    "\n",
    "# On travaille aussi sur un échantillon pour la mémoire et le temps de calcul\n",
    "dflight = dflight.sample(30000)\n",
    "print(dflight.shape)\n",
    "dflight.to_csv('clean_products_light_sample.csv', sep=\"\\t\")"
   ]
  },
  {
   "cell_type": "markdown",
   "metadata": {},
   "source": [
    "## Tests de modèles"
   ]
  },
  {
   "cell_type": "code",
   "execution_count": 33,
   "metadata": {
    "scrolled": true
   },
   "outputs": [
    {
     "name": "stdout",
     "output_type": "stream",
     "text": [
      "On enlève les colonnes avec trop peu dinformation : 0.005\n",
      "69 colonnes enlevées (moins de 75 valeurs)\n",
      "(15000, 93)\n",
      "54 colonnes en moins (colonnes sans valeurs nutritionnelles)\n",
      "(15000, 39)\n",
      "On enlève les lignes dont toutes les valeurs sont manquantes\n",
      "1565 lignes en moins (valeurs toutes nulles)\n",
      "(13435, 39)\n",
      "On enlève les valeurs négatives\n",
      "(13432, 39)\n",
      "On enlève les outliers\n",
      "(12490, 39)\n",
      "On enlève les lignes dont toutes les valeurs sont manquantes\n",
      "0 lignes en moins (valeurs toutes nulles)\n",
      "(12490, 39)\n",
      "On remplace les valeurs manquantes par la moyenne\n"
     ]
    }
   ],
   "source": [
    "verbose = 0\n",
    "# On enlève les colonnes peu remplies\n",
    "my_data = RemoveEmptyColumns(dataraw.sample(15000), 0.005)\n",
    "my_data_nut = GetNut(my_data)\n",
    "my_data_nut = RemoveNegatives(my_data_nut)\n",
    "my_data_nut = RemoveOutliers(my_data_nut)\n",
    "my_data_nut = RemoveNullRow(my_data_nut)\n",
    "my_data_nut = ReplaceByMean(my_data_nut)\n",
    "\n",
    "# On enlève les colonnes issues de l'étude de corrélation (voir la partie exploration)\n",
    "dropCols = ['monounsaturated_fat_100g', 'polyunsaturated_fat_100g', 'trans_fat_100g', 'proteins_100g', 'alcohol_100g', 'vitamin_a_100g', 'vitamin_d_100g', 'vitamin_b1_100g', 'vitamin_b2_100g', 'vitamin_pp_100g', 'vitamin_b6_100g', 'vitamin_b9_100g', 'folates_100g', 'vitamin_b12_100g', 'pantothenic_acid_100g', 'potassium_100g', 'calcium_100g', 'phosphorus_100g', 'iron_100g', 'magnesium_100g', 'zinc_100g', 'copper_100g', 'manganese_100g', 'fruits_vegetables_nuts_100g']\n",
    "for col in dropCols:\n",
    "    my_data_nut = DropCol(my_data_nut, col)"
   ]
  },
  {
   "cell_type": "markdown",
   "metadata": {
    "collapsed": true
   },
   "source": [
    "## Recherche des scores manquants"
   ]
  },
  {
   "cell_type": "code",
   "execution_count": 34,
   "metadata": {
    "collapsed": true,
    "scrolled": true
   },
   "outputs": [],
   "source": [
    "from sklearn import metrics, preprocessing, neighbors\n",
    "from sklearn.model_selection import GridSearchCV\n",
    "from sklearn.model_selection import train_test_split\n",
    "from sklearn.model_selection import StratifiedKFold    # Pour la classification\n",
    "\n",
    "# On prend un échantillon pour des tests plus rapide\n",
    "dfreg = my_data_nut.sample(10000)\n",
    "dfreg = DropCol(dfreg, 'pnns_groups_1')\n",
    "dfreg = DropCol(dfreg, 'pnns_groups_2')"
   ]
  },
  {
   "cell_type": "code",
   "execution_count": 35,
   "metadata": {},
   "outputs": [
    {
     "name": "stdout",
     "output_type": "stream",
     "text": [
      "Il y a 2337 valeurs nulles\n",
      "Il y a 7663 valeurs non nulles\n"
     ]
    }
   ],
   "source": [
    "# Séparation des valeurs nulles et non nulles\n",
    "dfScoreNull = dfreg[pd.isnull(dfreg.nutrition_score_fr_100g)]\n",
    "print('Il y a', dfScoreNull.shape[0], 'valeurs nulles')\n",
    "dfScoreNotNull = dfreg[pd.notnull(dfreg.nutrition_score_fr_100g)]\n",
    "print('Il y a', dfScoreNotNull.shape[0], 'valeurs non nulles')\n",
    "\n",
    "# On sépare les colonnes de scores sur les valeurs non nulles\n",
    "X = dfScoreNotNull.drop(col_score, axis=1)\n",
    "y = dfScoreNotNull.nutrition_score_fr_100g\n",
    "\n",
    "# 30% des données dans le jeu de test\n",
    "X_train, X_test, y_train, y_test = train_test_split(X, y, test_size=0.3)\n",
    "\n",
    "# Standardisation\n",
    "std_scale = preprocessing.StandardScaler(copy=True).fit(X_train)\n",
    "X_train_std = std_scale.transform(X_train)\n",
    "X_test_std = std_scale.transform(X_test)"
   ]
  },
  {
   "cell_type": "markdown",
   "metadata": {
    "collapsed": true
   },
   "source": [
    "### Par régression knn"
   ]
  },
  {
   "cell_type": "code",
   "execution_count": 36,
   "metadata": {},
   "outputs": [
    {
     "name": "stderr",
     "output_type": "stream",
     "text": [
      "C:\\ProgramData\\Anaconda3\\lib\\site-packages\\sklearn\\cross_validation.py:41: DeprecationWarning: This module was deprecated in version 0.18 in favor of the model_selection module into which all the refactored classes and functions are moved. Also note that the interface of the new CV iterators are different from that of this module. This module will be removed in 0.20.\n",
      "  \"This module will be removed in 0.20.\", DeprecationWarning)\n"
     ]
    }
   ],
   "source": [
    "from sklearn.cross_validation import cross_val_score\n",
    "k_range = range(1, 20)\n",
    "k_score = []\n",
    "for k in k_range:\n",
    "    knn = neighbors.KNeighborsRegressor(n_neighbors=k)\n",
    "    scores = cross_val_score(knn, X_train_std, y_train, cv=5, scoring='neg_mean_squared_error')\n",
    "    k_score.append(-scores.mean())"
   ]
  },
  {
   "cell_type": "code",
   "execution_count": 37,
   "metadata": {
    "scrolled": true
   },
   "outputs": [
    {
     "data": {
      "text/plain": [
       "([<matplotlib.axis.XTick at 0x112dca58>,\n",
       "  <matplotlib.axis.XTick at 0x24ce160>,\n",
       "  <matplotlib.axis.XTick at 0x112c2390>,\n",
       "  <matplotlib.axis.XTick at 0x121357b8>,\n",
       "  <matplotlib.axis.XTick at 0x12135e10>,\n",
       "  <matplotlib.axis.XTick at 0x121434a8>,\n",
       "  <matplotlib.axis.XTick at 0x12143b00>,\n",
       "  <matplotlib.axis.XTick at 0x12149198>,\n",
       "  <matplotlib.axis.XTick at 0x121497f0>,\n",
       "  <matplotlib.axis.XTick at 0x12149e48>],\n",
       " <a list of 10 Text xticklabel objects>)"
      ]
     },
     "execution_count": 37,
     "metadata": {},
     "output_type": "execute_result"
    },
    {
     "data": {
      "image/png": "[encoded data removed]",
      "text/plain": [
       "<matplotlib.figure.Figure at 0x1122ed30>"
      ]
     },
     "metadata": {},
     "output_type": "display_data"
    }
   ],
   "source": [
    "plt.plot(k_range, k_score, 'o-')\n",
    "plt.xlabel(\"k\")\n",
    "plt.ylabel(\"MSE\")\n",
    "plt.title(\"Hyperparamètre pour knn\")\n",
    "plt.xticks(range(1, 20, 2))"
   ]
  },
  {
   "cell_type": "code",
   "execution_count": 38,
   "metadata": {},
   "outputs": [
    {
     "name": "stdout",
     "output_type": "stream",
     "text": [
      "\tMSE = 6.178 (+/-0.631) for {'n_neighbors': 3}\n",
      "\tMSE = 6.025 (+/-0.716) for {'n_neighbors': 5}\n",
      "\tMSE = 6.063 (+/-0.943) for {'n_neighbors': 7}\n",
      "\tMSE = 6.188 (+/-0.887) for {'n_neighbors': 9}\n",
      "\tMSE = 6.385 (+/-0.903) for {'n_neighbors': 11}\n",
      "\tMSE = 6.569 (+/-0.960) for {'n_neighbors': 13}\n",
      "\tMSE = 6.777 (+/-1.084) for {'n_neighbors': 15}\n",
      "Meilleur k : 5\n"
     ]
    }
   ],
   "source": [
    "# On fait un grid search pour trouver le meilleur k\n",
    "param_grid = {'n_neighbors':[3, 5, 7, 9, 11, 13, 15]}\n",
    "mse = 'neg_mean_squared_error'\n",
    "gs = GridSearchCV(neighbors.KNeighborsRegressor(), param_grid, scoring=mse, cv = 5)\n",
    "\n",
    "gs.fit(X_train_std, y_train)\n",
    "me = []\n",
    "err = []\n",
    "for mean, std, params in zip(gs.cv_results_['mean_test_score'], # score moyen\n",
    "                             gs.cv_results_['std_test_score'], # écart-type du score\n",
    "                             gs.cv_results_['params'] # valeur de l'hyperparamètre\n",
    "                            ):\n",
    "    print (\"\\t%s = %0.3f (+/-%0.03f) for %r\" % ('MSE', -mean, std * 2, params))\n",
    "    me.append(mean)\n",
    "    err.append(2*std)\n",
    "\n",
    "kBest = gs.best_params_['n_neighbors']\n",
    "print ('Meilleur k : %r' % kBest)"
   ]
  },
  {
   "cell_type": "code",
   "execution_count": 39,
   "metadata": {},
   "outputs": [
    {
     "name": "stdout",
     "output_type": "stream",
     "text": [
      "Erreur sur le jeu de test : MSE = 6.581\n"
     ]
    }
   ],
   "source": [
    "# Entrainement du meilleur modèle et score sur le jeu de test\n",
    "knn = neighbors.KNeighborsRegressor(n_neighbors=kBest)\n",
    "knn.fit(X_train_std, y_train)\n",
    "y_pred = knn.predict(X_test_std)\n",
    "print (\"Erreur sur le jeu de test : MSE = %.3f\" % metrics.mean_squared_error(y_test, y_pred))"
   ]
  },
  {
   "cell_type": "markdown",
   "metadata": {
    "collapsed": true
   },
   "source": [
    "### Par régression linéaire"
   ]
  },
  {
   "cell_type": "code",
   "execution_count": 40,
   "metadata": {},
   "outputs": [
    {
     "name": "stdout",
     "output_type": "stream",
     "text": [
      "Erreur du modèle linéaire : MSE : 14.572\n"
     ]
    }
   ],
   "source": [
    "from sklearn import linear_model\n",
    "clf = GridSearchCV(linear_model.LinearRegression(), {}, cv=10, refit=True)\n",
    "clf.fit(X_train_std, y_train)\n",
    "print(\"Erreur du modèle linéaire : MSE : %.3f\" % metrics.mean_squared_error(clf.best_estimator_.predict(X_test_std), y_test))"
   ]
  },
  {
   "cell_type": "markdown",
   "metadata": {
    "collapsed": true
   },
   "source": [
    "### Par une méthode naïve"
   ]
  },
  {
   "cell_type": "code",
   "execution_count": 41,
   "metadata": {},
   "outputs": [
    {
     "name": "stdout",
     "output_type": "stream",
     "text": [
      "Méthode naive par la moyenne : MSE = 84.68\n"
     ]
    }
   ],
   "source": [
    "# Méthode naive par la moyenne pour comparer\n",
    "from sklearn import dummy\n",
    "dum = dummy.DummyRegressor(strategy='mean')\n",
    "# Entraînement\n",
    "dum.fit(X_train_std, y_train)\n",
    "# Prédiction sur le jeu de test\n",
    "y_pred_dum = dum.predict(X_test_std)\n",
    "# Evaluate\n",
    "print (\"Méthode naive par la moyenne : MSE = %.2f\" % metrics.mean_squared_error(y_test, y_pred_dum))"
   ]
  },
  {
   "cell_type": "markdown",
   "metadata": {},
   "source": [
    "Notre modèle est bien meilleur que le modèle naif"
   ]
  },
  {
   "cell_type": "code",
   "execution_count": 42,
   "metadata": {
    "scrolled": true
   },
   "outputs": [
    {
     "name": "stderr",
     "output_type": "stream",
     "text": [
      "C:\\ProgramData\\Anaconda3\\lib\\site-packages\\pandas\\core\\indexing.py:517: SettingWithCopyWarning: \n",
      "A value is trying to be set on a copy of a slice from a DataFrame.\n",
      "Try using .loc[row_indexer,col_indexer] = value instead\n",
      "\n",
      "See the caveats in the documentation: http://pandas.pydata.org/pandas-docs/stable/indexing.html#indexing-view-versus-copy\n",
      "  self.obj[item] = s\n"
     ]
    },
    {
     "data": {
      "text/plain": [
       "(10000, 13)"
      ]
     },
     "execution_count": 42,
     "metadata": {},
     "output_type": "execute_result"
    }
   ],
   "source": [
    "# Recherche des scores nulls\n",
    "X = dfScoreNull.drop(col_score, axis=1)\n",
    "\n",
    "# Standardisation\n",
    "std_scale = preprocessing.StandardScaler(copy=True).fit(X)\n",
    "X_scaled = std_scale.transform(X)\n",
    "\n",
    "yScoreNull = knn.predict(X_scaled)\n",
    "\n",
    "# Remplacement des nulls\n",
    "dfScoreNull.loc[:,'nutrition_score_fr_100g'] = yScoreNull\n",
    "\n",
    "dfreg = dfScoreNotNull.append(dfScoreNull)\n",
    "dfreg.shape"
   ]
  },
  {
   "cell_type": "markdown",
   "metadata": {
    "collapsed": true
   },
   "source": [
    "## Recherche des grades manquants"
   ]
  },
  {
   "cell_type": "code",
   "execution_count": 43,
   "metadata": {},
   "outputs": [
    {
     "name": "stdout",
     "output_type": "stream",
     "text": [
      "Il y a 2337 valeurs nulles\n",
      "Il y a 7663 valeurs non nulles\n"
     ]
    }
   ],
   "source": [
    "# Séparation des valeurs nulles et non nulles\n",
    "dfScoreNull = dfreg[pd.isnull(dfreg.nutrition_grade_fr)]\n",
    "print('Il y a', dfScoreNull.shape[0], 'valeurs nulles')\n",
    "dfScoreNotNull = dfreg[pd.notnull(dfreg.nutrition_grade_fr)]\n",
    "print('Il y a', dfScoreNotNull.shape[0], 'valeurs non nulles')"
   ]
  },
  {
   "cell_type": "code",
   "execution_count": 44,
   "metadata": {
    "collapsed": true
   },
   "outputs": [],
   "source": [
    "# On sépare les colonnes de scores sur les valeurs non nulles\n",
    "X = dfScoreNotNull.drop(col_score, axis=1)\n",
    "y = dfScoreNotNull.nutrition_grade_fr\n",
    "\n",
    "# Transformation des grades en valeurs de 1 à 5, correspondant à (['a', 'b', 'c', 'd', 'e'])\n",
    "from sklearn.preprocessing import LabelEncoder\n",
    "enc = LabelEncoder()\n",
    "label_encoder = enc.fit(y)\n",
    "y = label_encoder.transform(y)\n",
    "label_encoder.classes_\n",
    "\n",
    "# 30% des données dans le jeu de test\n",
    "X_train, X_test, y_train, y_test = train_test_split(X, y, test_size=0.3)\n",
    "    \n",
    "# Standardisation\n",
    "std_scale = preprocessing.StandardScaler(copy=True).fit(X_train)\n",
    "X_train_std = std_scale.transform(X_train)\n",
    "X_test_std = std_scale.transform(X_test)"
   ]
  },
  {
   "cell_type": "markdown",
   "metadata": {
    "collapsed": true
   },
   "source": [
    "### Par classification knn"
   ]
  },
  {
   "cell_type": "code",
   "execution_count": 45,
   "metadata": {},
   "outputs": [
    {
     "name": "stdout",
     "output_type": "stream",
     "text": [
      "\tMSE = 0.418 (+/-0.034) for {'n_neighbors': 3}\n",
      "\tMSE = 0.384 (+/-0.055) for {'n_neighbors': 5}\n",
      "\tMSE = 0.380 (+/-0.070) for {'n_neighbors': 7}\n",
      "\tMSE = 0.399 (+/-0.051) for {'n_neighbors': 9}\n",
      "\tMSE = 0.397 (+/-0.035) for {'n_neighbors': 11}\n",
      "\tMSE = 0.398 (+/-0.047) for {'n_neighbors': 13}\n",
      "\tMSE = 0.400 (+/-0.046) for {'n_neighbors': 15}\n",
      "Meilleur k : 7\n"
     ]
    }
   ],
   "source": [
    "param_grid = {'n_neighbors':[3, 5, 7, 9, 11, 13, 15]}\n",
    "mse = 'neg_mean_squared_error'\n",
    "gs = GridSearchCV(neighbors.KNeighborsClassifier(), param_grid, scoring=mse, cv = StratifiedKFold(n_splits=5))                                 \n",
    "\n",
    "gs.fit(X_train_std, y_train)\n",
    "me = []\n",
    "err = []\n",
    "for mean, std, params in zip(gs.cv_results_['mean_test_score'], # score moyen\n",
    "                             gs.cv_results_['std_test_score'], # écart-type du score\n",
    "                             gs.cv_results_['params'] # valeur de l'hyperparamètre\n",
    "                            ):\n",
    "    print (\"\\t%s = %0.3f (+/-%0.03f) for %r\" % ('MSE', -mean, std * 2, params))\n",
    "    me.append(mean)\n",
    "    err.append(2*std)\n",
    "kBest = gs.best_params_['n_neighbors']\n",
    "print ('Meilleur k : %r' % kBest)"
   ]
  },
  {
   "cell_type": "code",
   "execution_count": 46,
   "metadata": {},
   "outputs": [
    {
     "name": "stdout",
     "output_type": "stream",
     "text": [
      "Erreur du modèle knn : MSE = 0.392\n"
     ]
    }
   ],
   "source": [
    "# Entrainement du meilleur modèle\n",
    "knn = neighbors.KNeighborsClassifier(n_neighbors=kBest)\n",
    "knn.fit(X_train_std, y_train)\n",
    "y_pred = knn.predict(X_test_std)\n",
    "print (\"Erreur du modèle knn : MSE = %.3f\" % metrics.mean_squared_error(y_test, y_pred))"
   ]
  },
  {
   "cell_type": "markdown",
   "metadata": {
    "collapsed": true
   },
   "source": [
    "### Par régression linéaire"
   ]
  },
  {
   "cell_type": "code",
   "execution_count": 47,
   "metadata": {},
   "outputs": [
    {
     "name": "stdout",
     "output_type": "stream",
     "text": [
      "Erreur du modèle linéaire : MSE : 0.527\n"
     ]
    }
   ],
   "source": [
    "clf = GridSearchCV(linear_model.LinearRegression(), {}, cv=10, refit=True)\n",
    "clf.fit(X_train_std, y_train)\n",
    "print(\"Erreur du modèle linéaire : MSE : %.3f\" % metrics.mean_squared_error(clf.best_estimator_.predict(X_test_std), y_test))"
   ]
  },
  {
   "cell_type": "markdown",
   "metadata": {
    "collapsed": true
   },
   "source": [
    "### Par une méthode naïve"
   ]
  },
  {
   "cell_type": "code",
   "execution_count": 48,
   "metadata": {},
   "outputs": [
    {
     "name": "stdout",
     "output_type": "stream",
     "text": [
      "Méthode naive : MSE = 2.51\n"
     ]
    }
   ],
   "source": [
    "# Méthode naive par la classe la plus fréquente pour comparer\n",
    "dum = dummy.DummyClassifier(strategy='most_frequent')\n",
    "# Entraînement\n",
    "dum.fit(X_train_std, y_train)\n",
    "# Prédiction sur le jeu de test\n",
    "y_pred_dum = dum.predict(X_test_std)\n",
    "# Evaluate\n",
    "print (\"Méthode naive : MSE = %.2f\" % metrics.mean_squared_error(y_test, y_pred_dum))"
   ]
  },
  {
   "cell_type": "markdown",
   "metadata": {},
   "source": [
    "Notre modèle est bien meilleur que le modèle naif"
   ]
  },
  {
   "cell_type": "code",
   "execution_count": 49,
   "metadata": {},
   "outputs": [
    {
     "name": "stderr",
     "output_type": "stream",
     "text": [
      "C:\\ProgramData\\Anaconda3\\lib\\site-packages\\pandas\\core\\indexing.py:517: SettingWithCopyWarning: \n",
      "A value is trying to be set on a copy of a slice from a DataFrame.\n",
      "Try using .loc[row_indexer,col_indexer] = value instead\n",
      "\n",
      "See the caveats in the documentation: http://pandas.pydata.org/pandas-docs/stable/indexing.html#indexing-view-versus-copy\n",
      "  self.obj[item] = s\n"
     ]
    },
    {
     "data": {
      "text/plain": [
       "(10000, 13)"
      ]
     },
     "execution_count": 49,
     "metadata": {},
     "output_type": "execute_result"
    }
   ],
   "source": [
    "# Recherche des scores nulls\n",
    "X = dfScoreNull.drop(col_score, axis=1)\n",
    "\n",
    "# Standardisation\n",
    "std_scale = preprocessing.StandardScaler(copy=True)\n",
    "X_scaled = std_scale.fit(X).transform(X)\n",
    "\n",
    "yScoreNull = knn.predict(X_scaled)\n",
    "\n",
    "#On remet les grades\n",
    "yScoreNull = label_encoder.inverse_transform(yScoreNull)\n",
    "\n",
    "# Remplacement des nulls\n",
    "dfScoreNull.loc[:,'nutrition_grade_fr'] = yScoreNull\n",
    "\n",
    "dfreg = dfScoreNotNull.append(dfScoreNull)\n",
    "dfreg.shape"
   ]
  },
  {
   "cell_type": "markdown",
   "metadata": {},
   "source": [
    "# Export des résultats"
   ]
  },
  {
   "cell_type": "code",
   "execution_count": 50,
   "metadata": {
    "collapsed": true
   },
   "outputs": [],
   "source": [
    "dfreg.to_csv('products_score_filled.csv', sep=\"\\t\")"
   ]
  },
  {
   "cell_type": "code",
   "execution_count": null,
   "metadata": {
    "collapsed": true
   },
   "outputs": [],
   "source": []
  }
 ],
 "metadata": {
  "kernelspec": {
   "display_name": "Python 3",
   "language": "python",
   "name": "python3"
  },
  "language_info": {
   "codemirror_mode": {
    "name": "ipython",
    "version": 3
   },
   "file_extension": ".py",
   "mimetype": "text/x-python",
   "name": "python",
   "nbconvert_exporter": "python",
   "pygments_lexer": "ipython3",
   "version": "3.6.3"
  }
 },
 "nbformat": 4,
 "nbformat_minor": 2
}
